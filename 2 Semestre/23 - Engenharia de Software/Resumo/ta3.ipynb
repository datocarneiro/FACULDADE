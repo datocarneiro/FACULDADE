{
 "cells": [
  {
   "cell_type": "markdown",
   "metadata": {},
   "source": [
    "# *** RESUMO / TESTE DE SOFTWARE *** \n",
    "* Verificação e Validação;\n",
    "* Testes de Softwares;\n",
    "* Tipos de Testes;\n",
    "* Desenvolvimento orientado a testes (TDD\n",
    "\n",
    "![Alt text](image-2.png)\n",
    "\n"
   ]
  },
  {
   "cell_type": "markdown",
   "metadata": {},
   "source": [
    "***********************************************************************\n",
    "***********************************************************************\n"
   ]
  },
  {
   "cell_type": "markdown",
   "metadata": {},
   "source": [
    "# Verificação e Validação \n",
    "o QUE É?\n",
    "* Processo de verificação e análise;\n",
    "* Visa estabelecer a confiança que o sistema de software está adequado ao seu propósito.\n",
    "* Ocorre em cada estágio do processo do software:\n",
    "    * Revisões de requisitos;\n",
    "    * Revisões no projeto;\n",
    "    * Inspeções no código;\n",
    "    * Teste do produto.\n"
   ]
  },
  {
   "cell_type": "markdown",
   "metadata": {},
   "source": [
    "# Diferença entre VERIFICAÇÃO E VALIDAÇÃO\n",
    "* Verificação (Estamos produzindo o produto corretamente? )\n",
    "\n",
    "    ![Alt text](image-5.png)\n",
    "\n",
    "    * Verificar se o software está de acordo com suas especificações;\n",
    "    * Verificar se o software atende aos requisitos funcionais e não-funcionais não especificados.\n",
    "\n",
    "- Validação (Estamos produzindo o produto correto?, esotu atendendo o cliente?) \n",
    "\n",
    "    ![Alt text](image-4.png)\n",
    "    - Processo;\n",
    "    - Assegurar se o produto atende às expectativas do cliente;\n",
    "\n",
    "\n",
    "\n"
   ]
  },
  {
   "cell_type": "markdown",
   "metadata": {},
   "source": [
    "# Teste de Software\n",
    "Erros não encontrados poder significar que meus testes estão fracos : (\n",
    "\n",
    "* Consiste em uma sequência de ações executadas como objetivo de encontrar problemas no softwares;\n",
    "* Busca encontrar defeitos e não garantir que o software é isento de problemas;\n",
    "\n",
    "- O processo é separado em 4 grandes etapas:\n",
    "    * Planejamento - \n",
    "        * como vou testar e o que vou testar) - nesta etapa deve ser definido quem executa os\n",
    "        testes, em que período, com quais recursos (ferramentas e\n",
    "        computadores, por exemplo) e qual será a técnica utilizada (técnica\n",
    "        estrutural ou técnica funcional, por exemplo\n",
    "    * Projeto de casos de teste \n",
    "        * são eatps no meio do codigo para retornar valores de teste) - aqui são definidos os casos de teste que\n",
    "        serão utilizados no processo. No próximo item, esse conceito será\n",
    "        detalhado.\n",
    "    * Execução do programa com os casos de teste\n",
    "        * retorno dos casos de teset para analise das falhas ou não - nesta etapa, o teste\n",
    "    é efetivamente realizado\n",
    "    * Análise dos resultados;\n",
    "        * se falahas arrumar o codigo e testar novamente - aqui se verifica se os testes retornaram\n",
    "        resultados satisfatórios.\n"
   ]
  },
  {
   "cell_type": "markdown",
   "metadata": {},
   "source": [
    "# entendendo mais sobre CASOS DE TESTE\n",
    "É a entrada no programa e a saída correspondente\n",
    "* Deve-se escolher um bom caso de teste;\n",
    "* Casos de teste com baixa qualidade não exercitam partes críticas do programa;\n"
   ]
  },
  {
   "cell_type": "markdown",
   "metadata": {},
   "source": [
    "# Exemplo de CASOS DE TESTES de baixa ou alta: (ver o resultado do código)"
   ]
  },
  {
   "cell_type": "code",
   "execution_count": 16,
   "metadata": {},
   "outputs": [
    {
     "name": "stdout",
     "output_type": "stream",
     "text": [
      "450, Não terá desconto\n",
      "550 , Terá desconto de 10%\n",
      "Nesse caso o meu teste tem BAIXA QUALIDADE pois não exercitam valores críticos 450, 550\n",
      "*****************************************************************\n",
      "499.99, Não terá desconto\n",
      "500.0, Não terá desconto, pois a condição é somente se for maior\n",
      "500.01 , Terá desconto de 10%\n",
      "Nesse caso o meu teste tem ALTA QUALIDADE pois exercitam valores críticos 499.99, 500.00, 500.01\n"
     ]
    }
   ],
   "source": [
    "cliente1 = 450 \n",
    "cliente2 = 550\n",
    "if cliente1 > 500:\n",
    "    print(f'{cliente1} , Terá desconto de 10%')\n",
    "else:\n",
    "    print(f'{cliente1}, Não terá desconto')\n",
    "if cliente2 > 500:\n",
    "    print(f'{cliente2} , Terá desconto de 10%')\n",
    "else:\n",
    "    print(f'{cliente2}, Não terá desconto')\n",
    "\n",
    "print('Nesse caso o meu teste tem BAIXA QUALIDADE pois não exercitam valores críticos 450, 550')\n",
    "\n",
    "print('*'*65)\n",
    "\n",
    "cliente1 = 499.99\n",
    "cliente2 = 500.00\n",
    "cliente3 = 500.01\n",
    "if cliente1 > 500:\n",
    "    print(f'{cliente1} , Terá desconto de 10%')\n",
    "else:\n",
    "    print(f'{cliente1}, Não terá desconto')\n",
    "if cliente2 > 500:\n",
    "    print(f'{cliente2} , Terá desconto de 10%')\n",
    "else:\n",
    "    print(f'{cliente2}, Não terá desconto, pois a condição é somente se for maior')\n",
    "if cliente3 > 500:\n",
    "    print(f'{cliente3} , Terá desconto de 10%')\n",
    "else:\n",
    "    print(f'{cliente3}, Não terá desconto')\n",
    "\n",
    "print('Nesse caso o meu teste tem ALTA QUALIDADE pois exercitam valores críticos 499.99, 500.00, 500.01')\n",
    "\n"
   ]
  },
  {
   "cell_type": "markdown",
   "metadata": {},
   "source": [
    "# Planejamento dos Casos de Teste\n",
    "* Definir o ambiente no qual o teste será realizado;\n",
    "* Definir a entrada deste caso de teste;\n",
    "* Definir a saída esperada para cada entrada;\n",
    "* Definir os passos a serem realizados para executar os testes.\n"
   ]
  },
  {
   "cell_type": "markdown",
   "metadata": {},
   "source": [
    "# Resultado do Caso de Teste\n",
    " * Passou: \n",
    "    * todos os passos do caso de teste foram executados com sucesso para todas as entradas;\n",
    "- Falhou:\n",
    "    - nem todos os passos foram executados com sucesso para uma ou mais entradas;\n",
    "* Bloqueado: \n",
    "    * o teste não pôde ser executado, pois o seu ambiente não pôde ser configurado.\n"
   ]
  },
  {
   "cell_type": "markdown",
   "metadata": {},
   "source": [
    "# Defeito, Falha e Erro\n",
    "* Defeito: \n",
    "    * trata-se de deficiência algorítmica que, se ativada, pode levar a uma falha.\n",
    "- Falha: \n",
    "    - é tida como um não funcionamento do programa, provavelmente provocada por um defeito\n",
    "* Erro: \n",
    "    * ocorre quando o resultado obtido em um processamento e o que se esperava dele não são coincidentes.\n"
   ]
  },
  {
   "cell_type": "markdown",
   "metadata": {},
   "source": [
    "# DEPURAÇÃO (ou debug)\n",
    "A depuração (ou debug) é a atividade que consiste em\n",
    "buscar a localização desses defeitos no código. \n",
    "\n",
    "O fato de saber que há\n",
    "um problema causador de erro no programa não significa,\n",
    "necessariamente, que o testador sabe também em qual ou em quais\n",
    "linhas o problema está. \n",
    "\n",
    "Os ambientes de programação atuais oferecem\n",
    "recursos para depuração do programa e, durante esse processo, o valor\n",
    "assumido pelas variáveis sob inspeção em cada passo do algoritmo\n",
    "pode ser observado. \n",
    "\n",
    "Além disso, alguns pontos de parada da execução\n",
    "do programa podem ser inseridos no código. Tudo para possibilitar que\n",
    "o testador identifique e isole o defeito no código."
   ]
  },
  {
   "cell_type": "markdown",
   "metadata": {},
   "source": [
    "*********************************************\n"
   ]
  },
  {
   "cell_type": "markdown",
   "metadata": {},
   "source": [
    "# *** TIPOS DE TESTES ***"
   ]
  },
  {
   "cell_type": "markdown",
   "metadata": {},
   "source": [
    "# COMO OS TESTES SÃO CLASSIFICADOS?\n",
    "Os testes são classificados\n",
    "* Em funcionais\n",
    "    * Onjetivo de testar as funciopnalidades do programa, não necessita do código fonte\n",
    "- estruturais (caixa branca)\n",
    "    - Contando com o código-fonte e com a estrutura do banco de dados, o testador poderá submeter o programa a uma ferramenta automatizada de teste. Vale aqui a menção de que um teste funcional também pode (e deve) ser realizado de forma automática\n",
    "\n",
    "* Voltados a aplicações móveis\n",
    "    * testes voltados a aplicações feitas para dispositivos móveis e dos testes executados em aplicações para a internet\n",
    "- Voltados a aplicações orientadas a objetos\n",
    "    - s testes feitos em aplicações ou\n",
    "paradigmas específicos,"
   ]
  },
  {
   "cell_type": "markdown",
   "metadata": {},
   "source": [
    "# Testes- Fase do desenvolvimento de software\n",
    "\n",
    "![Alt text](image-7.png)"
   ]
  },
  {
   "cell_type": "markdown",
   "metadata": {},
   "source": [
    "# Tipos de Testes \n",
    "\n",
    "![Alt text](image-8.png)"
   ]
  }
 ],
 "metadata": {
  "kernelspec": {
   "display_name": "Python 3",
   "language": "python",
   "name": "python3"
  },
  "language_info": {
   "codemirror_mode": {
    "name": "ipython",
    "version": 3
   },
   "file_extension": ".py",
   "mimetype": "text/x-python",
   "name": "python",
   "nbconvert_exporter": "python",
   "pygments_lexer": "ipython3",
   "version": "3.11.5"
  },
  "orig_nbformat": 4
 },
 "nbformat": 4,
 "nbformat_minor": 2
}
