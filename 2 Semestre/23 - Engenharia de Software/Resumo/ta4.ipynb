{
 "cells": [
  {
   "cell_type": "markdown",
   "metadata": {},
   "source": [
    "# *** RESUMO ***\n",
    "Resumo: Analisar e avaliar o contexto de aplicação da auditoria de sistemas de informação e manutenção e evolução de software\n",
    "\n",
    "* Auditoria de sistemas de informação;\n",
    "* Sistemas legados;\n",
    "* Mudanças e manutenções em software;\n",
    "* Reengenharia de software;\n",
    "\n",
    "![Alt text](image-9.png)"
   ]
  },
  {
   "cell_type": "markdown",
   "metadata": {},
   "source": [
    "*************************************************\n",
    "***********************************************"
   ]
  },
  {
   "cell_type": "markdown",
   "metadata": {},
   "source": [
    "# Fundamentos de auditoria de sistemas\n",
    "* AUDITORIA (O QUE É?)\n",
    "    - Principal função analisar parcial ou globalmente os processos, resultados e, em alguns casos, sugerir ações corretivas ou melhorias. Elas podem ser aplicadas por diversos métodos (questionário, teste de uso prático, análise documental, entre outras formas), porém os resultados obtidos não devem gerar dúvidas\n",
    "    - Uma auditoria aponta falhas, erros, pontos de atenção, no entanto não obriga a empresa a tomar outros rumos.\n",
    "    - As atividades de auditoria de software são pautadas por testes, análises, avaliações e outras formas que possam provar que algO de inconformidade está ocorrendo ou sendo executado;\n",
    "\n",
    "\n"
   ]
  },
  {
   "cell_type": "markdown",
   "metadata": {},
   "source": [
    "# Onde aplicamos a auditoria de sistema? \n",
    "* Processos;\n",
    "    - verificando os meios de execução - por exemplo XP é execução em pares, mas o auditor constatou colaboradores trabalhando sozinho\n",
    "* Desenvolvimento;\n",
    "    - verificando o script por exemplo - erros na escrita , se o sites é responsivo se há dificuldade de navegação por exemplopor exemplo\n",
    "* Testes;\n",
    "    - varificando se os teste estão bem formulado, se  há alguma incorformidade através de testes \n",
    "* Segurança e proteção dos dados;\n",
    "    - vericando aas gtratativa de seguraças de dados sensiveis por exemplo\n",
    "* Estrutura de desenvolvimento;\n",
    "    - verifanco se ha recurso correto para o colaborador \n"
   ]
  },
  {
   "cell_type": "markdown",
   "metadata": {},
   "source": [
    "# Algumas abordades de auditoria\n",
    "* **ABORDAGEM AO REDOR DO COMPUTADOR**\n",
    "\n",
    "    É a mais barata e não exige do auditor um conhecimento técnico\n",
    "    * Baseado em confrontar documentos fontes com os resultados esperados;\n",
    "    * Utiliza*se rotinas manuais;\n",
    "    * Sua aplicação envolve custos baixos e diretos.\n",
    "    * Não se exige conhecimento extenso de tecnologia de informação;\n"
   ]
  },
  {
   "cell_type": "markdown",
   "metadata": {},
   "source": [
    "* **ABORDAGEM ATRAVÉS DO COMPUTADOR**\n",
    "\n",
    "    É a mais cara que temos, precisa de treinamento adequado, e normalmente necessita de compra de pacotes de softwares\n",
    "    * Capacita o auditor a verificar com maior freqüência a áreas que necessitam de verificação constante.\n",
    "    * Faz aprovação dos registros [logs] armazenados.\n",
    "    * Esta abordagem não deixa evidencias documentais através dos controles dos programas.\n",
    "    * Se for realizada incorretamente pode levar a grande perdas;\n"
   ]
  },
  {
   "cell_type": "markdown",
   "metadata": {},
   "source": [
    "* **ABORDAGEM COM O COMPUTADOR**\n",
    "\n",
    "    È a mais execultada,em relação a custo é um meio termo, é completa analise parte documental e de software\n",
    "    * Mais completa e mais utilizada;\n",
    "    * Utiliza as capacidade lógicas e aritméticas do computador.\n",
    "    * Possibilita a maior perfeição possível, fazendo uma compilação dos processos automatizados e manuais.\n",
    "    * Possibilidades de desenvolver programas específicos para serem usados pelo auditor.\n"
   ]
  },
  {
   "cell_type": "markdown",
   "metadata": {},
   "source": [
    "# Quem é o Auditor e suas atribuições?\n",
    "Auditor é o profissional que tem conhecimentos técnicos, gerenciais, operacionais e analíticos para conduzir as atividades relacionadas ao desenvolvimento de auditorias em sistemas da informação.\n",
    "\n",
    "**ALGUMAS ATRIBUIÇÕES aO AUDITOR**\n",
    "\n",
    "* Inspeção\n",
    "    - Realizar inspeção de processos e desenvolvimentos. Verifique onde ocorrem as não conformidades e apresente evidências convincentes.\n",
    "* Controle\n",
    "    - Realizar análises de controle de processos, que podem ser operacionais, de desenvolvimento ou gerencial.\n",
    "* Risco\n",
    "    - Verificar quais riscos podem afetar o projeto, a fim de indicar a equipe na qual existe é um risco. Isso permite que o gerente do projeto tome medidas corretivas/preventivas.\n",
    "    - Analisar os riscos de forma mais abrangente, apresentando consequências externas isso pode ocorrer.\n",
    "* Continua\n",
    "    - Prepare relatórios de análise em curtos períodos de tempo.\n",
    "    - Use sistemas de verificação constante para analisar diferentes momentos.\n",
    "    - Contratar especialistas na área em que é necessária uma análise mais aprofundada, em para aumentar o detalhamento dos processos.\n",
    "\n",
    "![Alt text](image-10.png)"
   ]
  },
  {
   "cell_type": "markdown",
   "metadata": {},
   "source": [
    "# **Ciclo de vida da auditoria**\n"
   ]
  },
  {
   "cell_type": "markdown",
   "metadata": {},
   "source": [
    "Em 4 etapas \n",
    "\n",
    "* Planejamento do cronograma\n",
    "* Planejamento da auditoria\n",
    "* Condução\n",
    "* Reporte\n",
    "\n",
    "![Alt text](image-11.png)\n",
    "* Planejamento do cronograma\n",
    "    * Dia, data, hora etc...\n",
    "    \n",
    "- Planejamento da auditoria\n",
    "    - Entre as atividades do planejamento da auditoria, deve- se estar claro qual o objetivo de determinada auditoria, de forma que a empresa de desenvolvimento de software que receberá os auditores possa se adequar às necessidades do cliente.\n",
    "    * O planejamento é um documento que deve ser elaborado pelos auditores de forma que três pontos fiquem claros para equipe de auditores e para a organização/equipe a ser auditada:\n",
    "        * Quem será auditado?\n",
    "        * O que será auditado?\n",
    "        * Quando ocorrerá a auditoria?\n",
    "\n",
    "\n",
    "        ![Alt text](image-13.png)\n",
    "\n",
    "* Condução\n",
    "    * Quando o planejamento da auditoria está pronto e aprovado, dá-se seu início, no qual são aplicadas as atividades de coleta de informações tais como: revisão documental, conversas e entrevistas, análise de dados de processos, observações, entre outras técnicas.\n",
    "\n",
    "        ![Alt text](image-14.png)\n",
    "\n",
    "* Reporte\n",
    "    * Encerramento da Auditoria;\n",
    "    * Podem ser feitas reuniões, relatórios, apresentações, entre diversos outros recursos que fornecem adevolutiva do que foi auditado;\n",
    "    * Dependendo do acordado na contratação desse serviço, podem-se propor melhorias e ajustes. Porém, não cabe à empresa/equipe de auditoria promover as mudanças descritas no reporte\n",
    "\n"
   ]
  },
  {
   "cell_type": "markdown",
   "metadata": {},
   "source": [
    "# ***Auditoria de sistemas de informação***\n",
    "**TIPOS DE AUDITORIA**"
   ]
  },
  {
   "cell_type": "markdown",
   "metadata": {},
   "source": [
    "***Auditoria de Controles Organizacionais e Operacionais***\n",
    "\n",
    "Nada mais é que a auditoria nas politicas interna que a organização possui(mas da gestão), para verificar se o que a organização prega, esta sendo realizada\n",
    "* Delineamento das responsabilidades operacionais;\n",
    "* Coordenação de orçamento de capital de informática e bases;\n",
    "* Desenvolvimento e implementação das políticas globais de informática;\n",
    "* Intermediação com terceiros (networking);\n",
    "* Gerenciamento de suprimentos;\n",
    "* Desenvolvimento de plano de capacitação.\n",
    "* Cargos:\n",
    "    * Supervisão da infraestrutura de TI\n",
    "    * Administração de redes\n",
    "    * Administração de banco de dados\n",
    "    * Administração de dados\n",
    "    * Administração de segurança\n",
    "    * Análise, programação e manutenção de sistemas\n",
    "    * Design para web\n",
    "    * Suporte técnico\n",
    "\n",
    "***Auditoria de Controles de Hardware***\n",
    "\n",
    "Nada mais é que a auditoria voltada a infraestrutura, como segurança por exemplo\n",
    "* Objetivo de implantar os procedimentos de segurança física sobre os equipamentos instalados em ambiente de informática – Data Center de uma organização.\n",
    "* Os controles podem ser físicos e automatizados.\n",
    "    * físico\n",
    "        * limitação de acesso literalmente, á um setor por exemplo o de data center (dados), outro exemplo é ter manual para uso do equipamento\n",
    "    * Automatizado \n",
    "        * construido junto com o fabricante por exemplo, que ajudam a descobrir e a controlar erro que surgem durante o uso\n",
    "* Fazer inventários de hardwares.\n",
    "* BIOs;\n",
    "* processadores (chips);\n",
    "* sistema operacional e a linguagem;\n",
    "* fabricante/modelo e séries;\n",
    "* monitor e a resolução;\n",
    "* placas de modem, som, vídeo etc.\n",
    "* Recursos para amenizar os riscos:\n",
    "    * Extintores de incêndio;\n",
    "    * Sprinklers;\n",
    "* Firewalls:\n",
    "    - a. detecção de intrusos;\n",
    "    - b. controle de aplicativos;\n",
    "    - c. controle de privacidade."
   ]
  },
  {
   "cell_type": "markdown",
   "metadata": {},
   "source": []
  },
  {
   "cell_type": "markdown",
   "metadata": {},
   "source": [
    "*************************************************************\n",
    "**************************************************"
   ]
  },
  {
   "cell_type": "markdown",
   "metadata": {},
   "source": [
    "\n",
    "# Sistemas legados;\n",
    "# Mudanças e manutenções em software;\n",
    "# Reengenharia de software;"
   ]
  }
 ],
 "metadata": {
  "kernelspec": {
   "display_name": "Python 3",
   "language": "python",
   "name": "python3"
  },
  "language_info": {
   "codemirror_mode": {
    "name": "ipython",
    "version": 3
   },
   "file_extension": ".py",
   "mimetype": "text/x-python",
   "name": "python",
   "nbconvert_exporter": "python",
   "pygments_lexer": "ipython3",
   "version": "3.11.5"
  },
  "orig_nbformat": 4
 },
 "nbformat": 4,
 "nbformat_minor": 2
}
