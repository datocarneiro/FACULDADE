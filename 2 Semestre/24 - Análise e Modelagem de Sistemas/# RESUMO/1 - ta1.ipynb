{
 "cells": [
  {
   "cell_type": "markdown",
   "metadata": {},
   "source": [
    "# ***RESUMO***\n",
    "\n",
    "* Evolução de software;\n",
    "* Processo de software;\n",
    "* Modelos de processos de software;\n",
    "* Desenvolvimento ágil.\n",
    "\n",
    "- Competência da Unidade: Compreender os fundamentos da \n",
    "engenharia de software da análise de sistemas.\n",
    "- Resumo: Entender os processos de softwares, modelos de ciclo \n",
    "de vida e o desenvolvimento ágil.\n",
    "- Palavras-chave: Processo; cascata; software; metodologia ágil; \n",
    "Scrum\n",
    "\n",
    "- Título da Teleaula: Introdução à engenharia de software e à\n",
    "análise de sistemas\n",
    "\n"
   ]
  },
  {
   "cell_type": "markdown",
   "metadata": {},
   "source": [
    "***************\n",
    "****************\n"
   ]
  },
  {
   "cell_type": "markdown",
   "metadata": {},
   "source": [
    "# ***O que é um software*** \n",
    "    União de três elementos:\n",
    "    •Instruções;\n",
    "    •Estruturas de dados;\n",
    "    •Documentaçã"
   ]
  },
  {
   "cell_type": "markdown",
   "metadata": {},
   "source": [
    "# ***TA1- Título da Teleaula: Introdução à engenharia de software e à análise de sistemas***"
   ]
  }
 ],
 "metadata": {
  "language_info": {
   "name": "python"
  }
 },
 "nbformat": 4,
 "nbformat_minor": 2
}
