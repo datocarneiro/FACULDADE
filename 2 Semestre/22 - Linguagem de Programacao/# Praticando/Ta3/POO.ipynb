{
 "cells": [
  {
   "cell_type": "markdown",
   "metadata": {},
   "source": [
    "outro exemplo  - calculadora"
   ]
  },
  {
   "cell_type": "code",
   "execution_count": 11,
   "metadata": {},
   "outputs": [
    {
     "name": "stdout",
     "output_type": "stream",
     "text": [
      "o resultado do método invocado é:.... 30\n"
     ]
    }
   ],
   "source": [
    "class calculadora():\n",
    " \n",
    "    def _init_(self, somar):\n",
    "        self.somar = somar\n",
    "  \n",
    "    def somar(self, a, b):\n",
    "        return a + b \n",
    "\n",
    "calculo = calculadora()\n",
    "i = calculo.somar(10,20)\n",
    "\n",
    "print(f'o resultado do método invocado é:.... {i}')\n",
    "\n"
   ]
  },
  {
   "cell_type": "markdown",
   "metadata": {},
   "source": [
    "ORIENTAÇÃO A OBJETO - COMPRAR COMPUTADOR\n",
    "\n",
    "A classe é definida pela estrutura class comprar():.\n",
    "Os atributos da classe são tela, cpu, teclado e mouse, definidos como variáveis de classe.\n",
    "Os métodos da classe são comprar_tela, comprar_cpu, comprar_teclado, comprar_mouse e mostrar_na_tela.\n",
    "A instância da classe é criada como comprador.\n",
    "Os métodos da classe são chamados nas linhas como comprador.comprar_tela(...), comprador.comprar_cpu(...), etc.\n",
    "O comportamento é definido pelos métodos da classe, que permitem comprar itens e mostrar informações sobre eles na tela."
   ]
  },
  {
   "cell_type": "code",
   "execution_count": 123,
   "metadata": {},
   "outputs": [
    {
     "name": "stdout",
     "output_type": "stream",
     "text": [
      "Você comprou: ------------------------------ Tela igual a do Tiago de 40'\n",
      "Você comprou: ------------------------------ CPU de última geração I9, e presentear o Dato\n",
      "Você comprou: ------------------------------ Teclado RGB\n",
      "Você comprou: ------------------------------ Mouse de 2k dpi\n"
     ]
    }
   ],
   "source": [
    "class comprar():\n",
    "    # Atributos da classe (variáveis de classe)\n",
    "    #tela = \"\"\n",
    "    #cpu = \"\"\n",
    "    #teclado = \"\"\n",
    "    #mouse = \"\"\n",
    "\n",
    "    # Métodos da classe para comprar itens\n",
    "    def comprar_tela(self, tela):\n",
    "        self.tela = tela\n",
    "\n",
    "    def comprar_cpu(self, cpu):\n",
    "        self.cpu = cpu\n",
    "\n",
    "    def comprar_teclado(self, teclado):\n",
    "        self.teclado = teclado\n",
    "\n",
    "    def comprar_mouse(self, mouse):\n",
    "        self.mouse = mouse\n",
    "\n",
    "    # Método para mostrar os itens comprados na tela\n",
    "    def mostrar_na_tela(self):\n",
    "        compras = self.tela, self.cpu, self.teclado, self.mouse\n",
    "        for i in compras:\n",
    "            print(f'Você comprou: {\"-\" * 30} {i}')\n",
    "\n",
    "# Aqui começa a criação de uma instância (objeto) da classe comprar\n",
    "comprador = comprar()\n",
    "comprador.comprar_tela(\"Tela igual a do Tiago de 40'\")\n",
    "comprador.comprar_cpu(\"CPU de última geração I9, e presentear o Dato\")\n",
    "comprador.comprar_teclado(\"Teclado RGB\")\n",
    "comprador.comprar_mouse(\"Mouse de 2k dpi\")\n",
    "comprador.mostrar_na_tela()"
   ]
  },
  {
   "cell_type": "markdown",
   "metadata": {},
   "source": [
    "ORIENTAÇÃO A OBJETO - CONTRUINDO CASA\n",
    "No código abaixo código:\n",
    "\n",
    "A classe é definida pela estrutura class ConstruirCasa(object):.\n",
    "Os atributos da classe são cor, altura e quartos, definidos no início da classe.\n",
    "Os métodos da classe são modificar e como_sera.\n",
    "Os objetos (instâncias da classe) são criados nas linhas como pedreiro e outrooreiaSECA.\n",
    "Os métodos da classe são chamados nas linhas como pedreiro.modificar(...), pedreiro.como_sera(), etc.\n",
    "O comportamento é definido pelos métodos da classe, que realizam ações como modificar atributos e imprimir informações sobre a casa.\n"
   ]
  },
  {
   "cell_type": "code",
   "execution_count": 19,
   "metadata": {},
   "outputs": [],
   "source": [
    "class ConstruirCasa(object):\n",
    "    # A classe começa aqui. É definida a classe chamada ConstruirCasa.\n",
    "    # Aqui estão os atributos da classe (variáveis de classe).\n",
    "    cor = 'roxo'\n",
    "    altura = 0\n",
    "    quartos = 0\n",
    "    ########################################################--\n",
    "\n",
    "    # Este é um método da classe.\n",
    "    def modificar(self, cor, altura, quartos):\n",
    "        # Aqui, os valores dos atributos da classe estão sendo modificados.\n",
    "        self.cor = cor\n",
    "        self.altura = altura\n",
    "        self.quartos = quartos\n",
    "\n",
    "    # Este é outro método da classe.\n",
    "    def como_sera(self):\n",
    "        # Este método imprime informações sobre a casa.\n",
    "        print(f\"Sua casa é: {self.cor}, Com {self.altura}m de altura, e com {self.quartos} quartos.\")\n",
    "    ###############################################################################-\n",
    "\n",
    "# Aqui começa a criação de instâncias (objetos) da classe ConstruirCasa.\n",
    "\n",
    "# Criando a primeira instância da classe ConstruirCasa, chamada pedreiro.\n",
    "pedreiro = ConstruirCasa()\n",
    "# Chamando o método modificar para ajustar os atributos da instância.\n",
    "pedreiro.modificar(input('Digite a cor: '), input('Digite altura: '), input('Digite quartos: '))\n",
    "# Chamando o método como_sera para mostrar informações sobre a casa.\n",
    "pedreiro.como_sera()\n",
    "\n",
    "# Criando a terceira instância da classe ConstruirCasa, chamada outrooreiaSECA.\n",
    "outrooreiaSECA = ConstruirCasa()\n",
    "# Chamando o método modificar para ajustar os atributos da instância.\n",
    "outrooreiaSECA.modificar(input('Digite a cor: '), input('Digite altura: '), input('Digite quartos: '))\n",
    "# Chamando o método como_sera para mostrar informações sobre a casa.\n",
    "outrooreiaSECA.como_sera()"
   ]
  },
  {
   "cell_type": "markdown",
   "metadata": {},
   "source": [
    "CONSTRUTOR DE CLASSE  \" \n",
    "____init____( )\" - Construtor da classe __init__( )\n",
    "Atributos de instância, também chamadas de variáveis de instâncias. \n",
    "Esse tipo de atributo é capaz de receber um valor diferente para \n",
    "cada objeto.\n",
    "Um atributo de instância é uma variável precedida com o parâmetro \n",
    "self, ou seja, a sintaxe para criar e utilizar é self.nome_atributo.\n",
    "Ao instanciar um novo objeto, é possível determinar um estado\n",
    "inicial para variáveis de instâncias por meio do método construtor da \n",
    "classe.\n",
    "Em Python, o método construtor é chamado de __init__( ) "
   ]
  },
  {
   "cell_type": "code",
   "execution_count": null,
   "metadata": {},
   "outputs": [],
   "source": []
  }
 ],
 "metadata": {
  "kernelspec": {
   "display_name": "Python 3",
   "language": "python",
   "name": "python3"
  },
  "language_info": {
   "codemirror_mode": {
    "name": "ipython",
    "version": 3
   },
   "file_extension": ".py",
   "mimetype": "text/x-python",
   "name": "python",
   "nbconvert_exporter": "python",
   "pygments_lexer": "ipython3",
   "version": "3.11.4"
  },
  "orig_nbformat": 4
 },
 "nbformat": 4,
 "nbformat_minor": 2
}
