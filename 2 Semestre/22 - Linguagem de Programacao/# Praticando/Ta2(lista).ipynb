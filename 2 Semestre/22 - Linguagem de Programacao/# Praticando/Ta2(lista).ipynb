{
 "cells": [
  {
   "cell_type": "markdown",
   "metadata": {},
   "source": [
    "78. Ler 5 valores numériocos e guarde-os em uma lista, no fim mostre qual foi o maior e o menor valor, e suas posições"
   ]
  },
  {
   "cell_type": "code",
   "execution_count": 51,
   "metadata": {},
   "outputs": [
    {
     "name": "stdout",
     "output_type": "stream",
     "text": [
      "a lista atual é =[45]\n",
      "a lista atual é =[45, 54564]\n",
      "a lista atual é =[45, 54564, 42]\n",
      "a lista atual é =[45, 54564, 42, 148]\n",
      "a lista atual é =[45, 54564, 42, 148, 1]\n",
      "o menor é: 54564, e seu índice é: 1\n",
      "o menor é: 1, e seu índice é: 4\n",
      "fim\n"
     ]
    }
   ],
   "source": [
    "lista = []\n",
    "for i in range(5):\n",
    "    valores = int(input(\"digite: \"))\n",
    "    lista.append(valores)\n",
    "    print(f'a lista atual é ={lista}')\n",
    "maior = max(lista)\n",
    "menor = min(lista)\n",
    "print(f'o menor é: {maior}, e seu índice é: {lista.index(maior)}')\n",
    "print(f'o menor é: {menor}, e seu índice é: {lista.index(menor)}')\n",
    "print(\"fim\")\n",
    "\n",
    "\n",
    "   \n"
   ]
  },
  {
   "cell_type": "markdown",
   "metadata": {},
   "source": [
    "79. criar um programa onde o usuario possa digitar varios valores numéricos e cadastre-os em uma lista. caso o numero ja exista, não será adicionado. no final serão exibidos todos os valores unicos digitados em ordem crescente"
   ]
  },
  {
   "cell_type": "code",
   "execution_count": 6,
   "metadata": {},
   "outputs": [
    {
     "name": "stdout",
     "output_type": "stream",
     "text": [
      "valor adicionadoo\n",
      "sua lista atual é: [1]\n",
      "valor adicionadoo\n",
      "sua lista atual é: [1, 2]\n",
      "valor adicionadoo\n",
      "sua lista atual é: [1, 2, 4545]\n",
      "valor adicionadoo\n",
      "sua lista atual é: [1, 2, 4545, 0]\n",
      "valor adicionadoo\n",
      "sua lista atual é: [1, 2, 4545, 0, 54]\n",
      "lista em ordem crescente: [0, 1, 2, 54, 4545]\n"
     ]
    }
   ],
   "source": [
    "lista = []\n",
    "\n",
    "while True:\n",
    "    \n",
    "    valores = int(input(\"digite: \"))\n",
    "    if valores not in lista: # not it , valida se ainda não existe valores em lista\n",
    "        lista.append(valores)\n",
    "        print(\"valor adicionadoo\")\n",
    "        print(f'sua lista atual é: {lista}')\n",
    "    else:\n",
    "        print(\"valor não pode ser duplicado, tente outro\")\n",
    "    continuar = input(\"quer contunua?: (S/N)\")\n",
    "    if continuar in \"Nn\":\n",
    "        break\n",
    "print(f'lista em ordem crescente: {sorted(lista)}')\n",
    "\n",
    "\n",
    "\n",
    "   \n",
    "\n"
   ]
  },
  {
   "cell_type": "markdown",
   "metadata": {},
   "source": [
    "80. crei um programa onde o usuario possa digitar cinco valores numéricos e cadastre-os em uma lista , ja na posição correta de inserção (sem usar o sort()). No final mostre a lista ordenada na tela"
   ]
  },
  {
   "cell_type": "code",
   "execution_count": 11,
   "metadata": {},
   "outputs": [
    {
     "name": "stdout",
     "output_type": "stream",
     "text": [
      "------------------------------\n",
      "[4, 5, 20, 99, 789]\n"
     ]
    }
   ],
   "source": [
    "lista = []\n",
    "\n",
    "for i in range(0, 5):\n",
    "    valor = int(input('digite um valor:'))\n",
    "    if i == 0 or valor > lista[-1]:\n",
    "        lista.append(valor)\n",
    "    else:\n",
    "        pos = 0\n",
    "        while pos < len(lista):\n",
    "            if valor <= lista[pos]:\n",
    "                lista.insert(pos, valor)\n",
    "                break\n",
    "            pos += 1\n",
    "print(\"-\" *30)\n",
    "print(lista)\n"
   ]
  }
 ],
 "metadata": {
  "kernelspec": {
   "display_name": "Python 3",
   "language": "python",
   "name": "python3"
  },
  "language_info": {
   "codemirror_mode": {
    "name": "ipython",
    "version": 3
   },
   "file_extension": ".py",
   "mimetype": "text/x-python",
   "name": "python",
   "nbconvert_exporter": "python",
   "pygments_lexer": "ipython3",
   "version": "3.11.4"
  },
  "orig_nbformat": 4
 },
 "nbformat": 4,
 "nbformat_minor": 2
}
