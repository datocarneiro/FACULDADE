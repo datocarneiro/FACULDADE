{
 "cells": [
  {
   "cell_type": "markdown",
   "metadata": {},
   "source": [
    "78. Ler 5 valores numériocos e guarde-os em uma lista, no fim mostre qual foi o maior e o menor valor, e suas posições"
   ]
  },
  {
   "cell_type": "code",
   "execution_count": 44,
   "metadata": {},
   "outputs": [
    {
     "name": "stdout",
     "output_type": "stream",
     "text": [
      "a lista atual é =[452]\n",
      "a lista atual é =[452, 452]\n",
      "a lista atual é =[452, 452, 7]\n",
      "a lista atual é =[452, 452, 7, 7]\n",
      "a lista atual é =[452, 452, 7, 7, 65]\n",
      "o menor é: 452, e seu índice é: 0\n",
      "o menor é: 7, e seu índice é: 2\n",
      "fim\n"
     ]
    }
   ],
   "source": [
    "lista = []\n",
    "for i in range(5):\n",
    "    valores = int(input(\"digite: \"))\n",
    "    lista.append(valores)\n",
    "    print(f'a lista atual é ={lista}')\n",
    "maior = max(lista)\n",
    "menor = min(lista)\n",
    "print(f'o menor é: {maior}, e seu índice é: {lista.index(maior)}')\n",
    "print(f'o menor é: {menor}, e seu índice é: {lista.index(menor)}')\n",
    "print(\"fim\")\n",
    "\n",
    "\n",
    "   \n"
   ]
  },
  {
   "cell_type": "markdown",
   "metadata": {},
   "source": []
  }
 ],
 "metadata": {
  "kernelspec": {
   "display_name": "Python 3",
   "language": "python",
   "name": "python3"
  },
  "language_info": {
   "codemirror_mode": {
    "name": "ipython",
    "version": 3
   },
   "file_extension": ".py",
   "mimetype": "text/x-python",
   "name": "python",
   "nbconvert_exporter": "python",
   "pygments_lexer": "ipython3",
   "version": "3.11.4"
  },
  "orig_nbformat": 4
 },
 "nbformat": 4,
 "nbformat_minor": 2
}
