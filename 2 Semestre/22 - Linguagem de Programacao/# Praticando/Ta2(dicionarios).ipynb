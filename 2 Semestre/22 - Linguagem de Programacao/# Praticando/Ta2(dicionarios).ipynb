{
 "cells": [
  {
   "cell_type": "markdown",
   "metadata": {},
   "source": [
    "90. Faça um programa que leia nome e média de um aluno,  guardando também a situação em dicionario. No final mostre o conteúdo da estrutura na tela"
   ]
  },
  {
   "cell_type": "code",
   "execution_count": 10,
   "metadata": {},
   "outputs": [
    {
     "name": "stdout",
     "output_type": "stream",
     "text": [
      "{'nome': 'jonathas', 'media': 5.0, 'situação': 'Reprovado'}\n",
      "o nome digitado foi: jonathas\n",
      "a média digitado foi: 5.0\n",
      "e a situação é: Reprovado\n"
     ]
    }
   ],
   "source": [
    "dicionario = dict()\n",
    "\n",
    "nome = input(\"Nome:\")\n",
    "média = float(input(f\"média de {nome}: \"))\n",
    "if média >= 7.0:\n",
    "    situação = \"Aprovado\"\n",
    "else:\n",
    "    situação = \"Reprovado\"\n",
    "dicionario = {\"nome\":nome, \"media\": média, \"situação\": situação}\n",
    "print(dicionario)\n",
    "print(f'o nome digitado foi: {dicionario[\"nome\"]}')\n",
    "print(f'a média digitado foi: {dicionario[\"media\"]}')\n",
    "print(f'e a situação é: {dicionario[\"situação\"]}')\n",
    "\n",
    "\n"
   ]
  },
  {
   "cell_type": "markdown",
   "metadata": {},
   "source": [
    "91. crei um programa onde 4 jogadores joguem um dado e tenham resultados aleatórios. Guarde esses resultados em um dicionario. No final, coloque em ordem, sabendo que oi vencedor toru o maior número no dado"
   ]
  },
  {
   "cell_type": "code",
   "execution_count": 12,
   "metadata": {},
   "outputs": [
    {
     "name": "stdout",
     "output_type": "stream",
     "text": [
      "o jogador1, tirou 4\n",
      "o jogador2, tirou 3\n",
      "o jogador3, tirou 6\n",
      "o jogador4, tirou 5\n",
      "6\n",
      "6\n",
      "6\n",
      "6\n"
     ]
    }
   ],
   "source": [
    "from random import randint\n",
    "import time\n",
    "\n",
    "jogadores = {}\n",
    "\n",
    "for i in range(0, 4):\n",
    "    jogadores[i] = randint(1, 6)\n",
    "    time.sleep(0.5)\n",
    "    print(f'o jogador{i+1}, tirou {jogadores[i]}')\n",
    "\n",
    "\n",
    "for m in range(0, len(jogadores)):\n",
    "    maior = max(jogadores.values())\n",
    "    print(maior)\n",
    "\n",
    "   \n",
    "\n",
    "\n"
   ]
  },
  {
   "cell_type": "markdown",
   "metadata": {},
   "source": [
    "92. crie um programa que leia o nome , ano de nascimento e a carteira de trabalho e cadastre-os em um dicionario ser por acaso a carteira for o dicionario receberá tambem o  ano de contração  e  o salário. calcule e acrecente alem da idade com quantos anos a pessoa vao se aposentar "
   ]
  },
  {
   "cell_type": "code",
   "execution_count": 151,
   "metadata": {},
   "outputs": [
    {
     "name": "stdout",
     "output_type": "stream",
     "text": [
      "nome tem valor dato\n",
      "idade tem valor 36\n",
      "carteira tem valor 123\n",
      "salario  tem valor 5000.0\n",
      "aposentadoria com 54 anos\n"
     ]
    }
   ],
   "source": [
    "import datetime\n",
    "\n",
    "ano_atual = datetime.datetime.now().year\n",
    "dicionario = dict()\n",
    "\n",
    "nome = input(\"Nome:\")\n",
    "ano = int(input(\" Ano de nascimento: \"))\n",
    "\n",
    "carteira = int(input(\"numero  da carteira (se não tem digite 0): \"))\n",
    "if carteira != 0:\n",
    "    ano_contratacao = int(input(\"digite o ano de contratação:\"))\n",
    "    salario = float(input(\"digite o salario:\"))\n",
    "    idade = ano_atual - ano\n",
    "    aposentadoria = (ano_contratacao + 35) - ano\n",
    "    dicionario = {\"nome\":nome, \"ano de nascimento\": ano, \"carteira\": carteira, \"salário\": salario, \"idade\": idade, \"aposentadoria\": aposentadoria}\n",
    "    print(f'nome tem valor {nome}')\n",
    "    print(f'idade tem valor {idade}')\n",
    "    print(f'carteira tem valor {carteira}')\n",
    "    print(f'salario  tem valor {salario}')\n",
    "    print(f'aposentadoria com {aposentadoria} anos')\n",
    "else:\n",
    "    idade = ano_atual - ano\n",
    "    dicionario = {\"nome\":nome, \"ano de nascimento\": ano, \"carteira\": carteira, \"idade\": idade}\n",
    "    print(f'nome tem valor {nome}')\n",
    "    print(f'idade tem valor {idade}')\n",
    "    print(f'carteira tem valor {carteira}')\n"
   ]
  },
  {
   "cell_type": "markdown",
   "metadata": {},
   "source": [
    "DESAFIO 93\n",
    "\n",
    "Criar um programa\n",
    "que gerencia o\n",
    "desempenho de um futebol\n",
    "jogador. O programa\n",
    "vai ler o jogador\n",
    "nome e quantospartidas que ele jogou. Então você vai ler\n",
    "o número de gols\n",
    "marcou em cada\n",
    ". No final, tude será salvo em\n",
    "Um dicionário.\n",
    "incluindo o total de\n",
    "gols marcados durante o\n",
    "campeonato."
   ]
  },
  {
   "cell_type": "code",
   "execution_count": 15,
   "metadata": {},
   "outputs": [
    {
     "name": "stdout",
     "output_type": "stream",
     "text": [
      "\n",
      "0\n",
      "\n",
      "1\n",
      "{'Jogador': 'datoooo', 'partidas': 2, 'gol': ['4', '2']}\n"
     ]
    },
    {
     "ename": "TypeError",
     "evalue": "unhashable type: 'list'",
     "output_type": "error",
     "traceback": [
      "\u001b[1;31m---------------------------------------------------------------------------\u001b[0m",
      "\u001b[1;31mTypeError\u001b[0m                                 Traceback (most recent call last)",
      "Cell \u001b[1;32mIn[15], line 13\u001b[0m\n\u001b[0;32m     10\u001b[0m     \u001b[39mprint\u001b[39m(p)\n\u001b[0;32m     12\u001b[0m \u001b[39mprint\u001b[39m(dicionario)\n\u001b[1;32m---> 13\u001b[0m \u001b[39mfor\u001b[39;00m g \u001b[39min\u001b[39;00m dicionario[gol]:\n\u001b[0;32m     14\u001b[0m     g \u001b[39m=\u001b[39m g \u001b[39m+\u001b[39m\u001b[39m1\u001b[39m\n\u001b[0;32m     15\u001b[0m     \u001b[39mprint\u001b[39m(g)\n",
      "\u001b[1;31mTypeError\u001b[0m: unhashable type: 'list'"
     ]
    }
   ],
   "source": [
    "dicionario = {}\n",
    "\n",
    "dicionario[\"Jogador\"] =  str(input(\"Nome do jogador: \"))\n",
    "dicionario[\"partidas\"] = int(input(f'Qtas partida {dicionario[\"Jogador\"]} jogou?: '))\n",
    "dicionario[\"gol\"] = []\n",
    "\n",
    "for p in range(0, dicionario[\"partidas\"]):\n",
    "    dicionario[\"gol\"].append(input(f'quantos gol fez na partida {p+1}?:  '))\n",
    "    print()\n",
    "    print(p)\n",
    "\n",
    "print(dicionario)\n",
    "for g in dicionario[gol]:\n",
    "    g = g +1\n",
    "    print(g)\n"
   ]
  }
 ],
 "metadata": {
  "kernelspec": {
   "display_name": "Python 3",
   "language": "python",
   "name": "python3"
  },
  "language_info": {
   "codemirror_mode": {
    "name": "ipython",
    "version": 3
   },
   "file_extension": ".py",
   "mimetype": "text/x-python",
   "name": "python",
   "nbconvert_exporter": "python",
   "pygments_lexer": "ipython3",
   "version": "3.11.4"
  },
  "orig_nbformat": 4
 },
 "nbformat": 4,
 "nbformat_minor": 2
}
