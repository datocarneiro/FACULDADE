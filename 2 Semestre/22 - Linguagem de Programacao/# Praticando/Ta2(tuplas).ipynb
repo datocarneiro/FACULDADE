{
 "cells": [
  {
   "cell_type": "markdown",
   "metadata": {},
   "source": [
    "TUPLAS, (são imutavéis)\n",
    "sintaxe, \n",
    "variavel = (\"a\",\"b\",\"c\") "
   ]
  },
  {
   "cell_type": "markdown",
   "metadata": {},
   "source": [
    "72) Crie um programa que tenha uma tupla totalmente preenchida com uma contagem por extenso, de zero até vinte , Seu preogra,ma deverá ler um número pelo teclado (entre 0 e 20) e mostra=lo por extenso"
   ]
  },
  {
   "cell_type": "code",
   "execution_count": 25,
   "metadata": {},
   "outputs": [
    {
     "name": "stdout",
     "output_type": "stream",
     "text": [
      "('zero', 'um', 'dois', 'três', 'quatro', 'cinco', 'seis', 'sete', 'oito', 'nove', 'dez', 'onze', 'doze', 'treze', 'quatorze', 'quinze', 'dezesseis', 'dezessete', 'dezoito', 'dezenove', 'vinte')\n",
      "tente denovo\n",
      "tente denovo\n",
      "tente denovo\n",
      "dezessete\n"
     ]
    }
   ],
   "source": [
    "numeros = (\"zero\", \"um\", \"dois\", \"três\", \"quatro\", \"cinco\", \"seis\", \"sete\", \"oito\", \"nove\", \"dez\", \n",
    "\"onze\", \"doze\", \"treze\", \"quatorze\", \"quinze\", \"dezesseis\", \"dezessete\", \"dezoito\", \"dezenove\", \"vinte\")\n",
    "print(numeros)\n",
    "while True:\n",
    "    var = int(input(\"digite um numero de 0 à 20 \"))\n",
    "    if 0 <= var <=20:\n",
    "        break\n",
    "    print(\"tente denovo\")\n",
    "print(numeros[var])\n",
    "\n"
   ]
  },
  {
   "cell_type": "markdown",
   "metadata": {},
   "source": [
    "73) Crie uma tupla preenchida com os 20 primerios colocados da tabela do campionanto Brasileiro, na ordem de colocação. depois mostre:\n",
    "A) Apenas os 5 primeiros \n",
    "B) os Últimos 4 \n",
    "C) Uma lista com os times em ordem alfabética\n",
    "D) Em que posição na tabela está o time da Chapecoense"
   ]
  },
  {
   "cell_type": "code",
   "execution_count": 56,
   "metadata": {},
   "outputs": [
    {
     "name": "stdout",
     "output_type": "stream",
     "text": [
      "Palmeiras\n",
      "Atlético Mineiro\n",
      "Fortaleza\n",
      "Bragantino\n",
      "Flamengo\n",
      "Atlético Paranaense\n",
      "Ceará\n",
      "Fluminense\n",
      "Santos\n",
      "Corinthians\n",
      "Internacional\n",
      "Juventude\n",
      "Bahia\n",
      "São Paulo\n",
      "América Mineiro\n",
      "Cuiabá\n",
      "Sport Recife\n",
      "Grêmio\n",
      "Chapecoense\n",
      "América de Natal\n",
      "==============================\n",
      "total de times: 20\n",
      "==============================\n",
      "A: Os 5 primeiros colocdos são: ('Palmeiras', 'Atlético Mineiro', 'Fortaleza', 'Bragantino', 'Flamengo')\n",
      "B : Os 4 ùltimos colocados são: ('Sport Recife', 'Grêmio', 'Chapecoense', 'América de Natal')\n",
      "==============================\n",
      "C: Times em ordem alfabética são: ['América Mineiro', 'América de Natal', 'Atlético Mineiro', 'Atlético Paranaense', 'Bahia', 'Bragantino', 'Ceará', 'Chapecoense', 'Corinthians', 'Cuiabá', 'Flamengo', 'Fluminense', 'Fortaleza', 'Grêmio', 'Internacional', 'Juventude', 'Palmeiras', 'Santos', 'Sport Recife', 'São Paulo']\n",
      "==============================\n",
      "D: A chapecoense ocupa à: 19º posição\n"
     ]
    }
   ],
   "source": [
    "times = (\"Palmeiras\", \"Atlético Mineiro\", \"Fortaleza\", \"Bragantino\",\n",
    " \"Flamengo\", \"Atlético Paranaense\", \"Ceará\", \"Fluminense\", \"Santos\",\n",
    " \"Corinthians\", \"Internacional\", \"Juventude\", \"Bahia\", \"São Paulo\", \n",
    " \"América Mineiro\", \"Cuiabá\", \"Sport Recife\", \n",
    " \"Grêmio\", \"Chapecoense\", \"América de Natal\")\n",
    "for t in times:\n",
    "    print(t)\n",
    "print(\"=\" *30)\n",
    "print(f\"total de times: {len(times)}\")\n",
    "print(\"=\" *30)\n",
    "print(f\"A: Os 5 primeiros colocdos são: {times[0:5]}\")\n",
    "print(f'B : Os 4 ùltimos colocados são: {times[-4:]}')\n",
    "print(\"=\" *30)\n",
    "print(f\"C: Times em ordem alfabética são: {sorted(times)}\")\n",
    "print(\"=\" *30)\n",
    "print(f'D: A chapecoense ocupa à: {times.index(\"Chapecoense\")+1}º posição')\n",
    "\n"
   ]
  },
  {
   "cell_type": "markdown",
   "metadata": {},
   "source": [
    "74) Crie um programa que vai gerar cinco números aleatórios e colocar em uma tupla.\n",
    "\n",
    "Depois disso, mostre a listagem de númros gerados e também indique o menos e o maior valor que estão na tupla"
   ]
  },
  {
   "cell_type": "code",
   "execution_count": 22,
   "metadata": {},
   "outputs": [
    {
     "name": "stdout",
     "output_type": "stream",
     "text": [
      "os numeros sorteados foram: (2, 5, 1, 6, 5)\n",
      "o maior valor soreteado foi: 6\n",
      "o maneor valor soreteado foi: 1\n"
     ]
    }
   ],
   "source": [
    "import random\n",
    "\n",
    "lista = (random.randint(1,10),random.randint(1,10),random.randint(1,10),random.randint(1,10),random.randint(1,10))\n",
    "print(f'os numeros sorteados foram: {lista}')\n",
    "print(f'o maior valor soreteado foi: {max(lista)}')\n",
    "print(f'o maneor valor soreteado foi: {min(lista)}')\n",
    "\n",
    "\n",
    "\n"
   ]
  },
  {
   "cell_type": "markdown",
   "metadata": {},
   "source": [
    "75 . Crei um programa que leia quatro valores pelo teclado e guarde-os em uma tupla. no final mostre, A) quantas vezes apareceu o valor 9, B) em que posição foi digitado o primeiro valor 3. C) quais foram os numeros pares"
   ]
  },
  {
   "cell_type": "code",
   "execution_count": 47,
   "metadata": {},
   "outputs": [
    {
     "name": "stdout",
     "output_type": "stream",
     "text": [
      "os valores da tupla são: (0, 50, 44, 83)\n",
      "o numero 9 foi encontrado: 0\n",
      "não ha numero 3 na lista\n",
      "os numeros pares da lista são: 0\n",
      "os numeros pares da lista são: 50\n",
      "os numeros pares da lista são: 44\n"
     ]
    }
   ],
   "source": [
    "a = int(input(\"digite o 1º valor: \"))\n",
    "b = int(input(\"digite o 1º valor: \"))\n",
    "c = int(input(\"digite o 1º valor: \"))\n",
    "d = int(input(\"digite o 1º valor: \"))\n",
    "\n",
    "lista = (a,+b,+c,+d)\n",
    "print(f'os valores da tupla são: {lista}')\n",
    "print(f'o numero 9 foi encontrado: {lista.count(9)}')\n",
    "if 3 in lista:\n",
    "    print(f'a posição do primeiro numero 3 é: {lista.index(3)}')\n",
    "else:\n",
    "    print('não ha numero 3 na lista')\n",
    "for pares in lista:\n",
    "    if pares %2 == 0:\n",
    "        print(f'os numeros pares da lista são: {pares}')\n",
    "        \n",
    "\n",
    "    \n"
   ]
  },
  {
   "cell_type": "markdown",
   "metadata": {},
   "source": [
    "76. Crie um programa que tenha uma tupla unica com nomes de produtos e seus respectivos preços, na sequancia. No final, mostre uma listagm, organizando os dados em forma tabular"
   ]
  },
  {
   "cell_type": "code",
   "execution_count": 70,
   "metadata": {},
   "outputs": [
    {
     "name": "stdout",
     "output_type": "stream",
     "text": [
      "=============================================\n",
      "PRODUTOS\n",
      "=============================================\n",
      "teclado....................... R$     50.0\n",
      "mouse......................... R$    10.02\n",
      "tela.......................... R$   150.03\n",
      "lapis......................... R$     20.1\n"
     ]
    }
   ],
   "source": [
    "produtos = (\"teclado\", 50.00,\"mouse\", 10.02,\"tela\",150.03,\"lapis\", 20.10)\n",
    "print(\"=\"* 45)\n",
    "print('PRODUTOS')\n",
    "print(\"=\"* 45)\n",
    "for pos in range(0, len(produtos)):\n",
    "    if pos %2 ==0:\n",
    "        print(f'{produtos[pos]:.<30}', end=\"\")\n",
    "    else:\n",
    "        print(f' R$ {produtos[pos]:>8}')"
   ]
  }
 ],
 "metadata": {
  "kernelspec": {
   "display_name": "Python 3",
   "language": "python",
   "name": "python3"
  },
  "language_info": {
   "codemirror_mode": {
    "name": "ipython",
    "version": 3
   },
   "file_extension": ".py",
   "mimetype": "text/x-python",
   "name": "python",
   "nbconvert_exporter": "python",
   "pygments_lexer": "ipython3",
   "version": "3.11.4"
  },
  "orig_nbformat": 4
 },
 "nbformat": 4,
 "nbformat_minor": 2
}
