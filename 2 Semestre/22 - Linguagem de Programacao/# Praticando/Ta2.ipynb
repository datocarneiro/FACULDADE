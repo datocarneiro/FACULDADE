{
 "cells": [
  {
   "cell_type": "markdown",
   "metadata": {},
   "source": [
    "ESTRUTURA DO TIPO SEQUENCIA: Lista, Tuplas, Set, Dicionario"
   ]
  },
  {
   "cell_type": "markdown",
   "metadata": {},
   "source": [
    "LISTA , é mutável\n",
    "\n",
    "Em Python, as listas podem ser construídas de várias maneiras:\n",
    "\n",
    "• Usando um par de colchetes para denotar uma lista vazia: lista1 = []\n",
    "\n",
    "• Usando um par de colchetes e elementos separados por vírgulas: lista2 = ['a', 'b', 'c']\n",
    "\n",
    "• Usando uma \"list comprehension\": [x for x in iterable]\n",
    "\n",
    "• Usando o construtor de tipo: list()"
   ]
  },
  {
   "cell_type": "code",
   "execution_count": 30,
   "metadata": {},
   "outputs": [
    {
     "name": "stdout",
     "output_type": "stream",
     "text": [
      "0 j\n",
      "1 o\n",
      "2 n\n",
      "3 a\n",
      "4 t\n",
      "5 h\n",
      "3 a\n",
      "7 s\n"
     ]
    }
   ],
   "source": [
    "nome = ['j','o','n','a','t','h','a','s']\n",
    "for i in nome:\n",
    "    print(nome.index(i), i) #função index retorna a posição de um elemento  em uma lista"
   ]
  },
  {
   "cell_type": "markdown",
   "metadata": {},
   "source": [
    "Função split() , pode se usada para transformar um texto em uma lista, dicionario "
   ]
  },
  {
   "cell_type": "code",
   "execution_count": 85,
   "metadata": {},
   "outputs": [
    {
     "name": "stdout",
     "output_type": "stream",
     "text": [
      "quantas letras a?: True\n",
      "quantas letras a?: 3\n",
      "['Dato', 'Carneiro', 'dos', 'santos']\n",
      "\n",
      "True\n",
      "False\n",
      "True\n",
      "banana\n",
      "10\n",
      "2\n",
      "['maça', 'banana', 'uva', 'mamão', 'maça', 8.7, 5.2, 10, 3.5]\n",
      "['maça', 'banana', 'uva', 'mamão', 'maça', 'maça', 'banana', 'uva', 'mamão', 'maça']\n"
     ]
    }
   ],
   "source": [
    "texto = \"Dato;Carneiro;dos;santos\"\n",
    "print(\"quantas letras a?:\", \"a\" in texto)\n",
    "print(\"quantas letras a?:\", texto.count(\"a\"))\n",
    "lista = texto.split(\";\") #o delimitador aqui é o ;, mas poderia ser qualquer caracter\n",
    "print(lista)\n",
    "print()\n",
    "\n",
    "frutas = [\"maça\", \"banana\", \"uva\", \"mamão\", \"maça\"]\n",
    "notas = [8.7, 5.2, 10, 3.5]\n",
    "print(\"maça\" in frutas) # True\n",
    "print(\"abacate\" in frutas) # False\n",
    "print(\"abacate\" not in frutas) # True\n",
    "print(min(frutas)) # banana\n",
    "print(max(notas)) # 10\n",
    "print(frutas.count(\"maça\")) # 2\n",
    "print(frutas + notas)\n",
    "print(2 * frutas)"
   ]
  },
  {
   "cell_type": "markdown",
   "metadata": {},
   "source": [
    "LIST COMPREHENSION (COMPREENSÕES DE LISTA)\n",
    "Esse tipo de técnica é utilizada quando, dada \n",
    "uma sequência, deseja-se criar uma nova sequência, porém com as informações \n",
    "originais transformadas ou filtradas por um critério. Para entender essa técnica, vamos "
   ]
  },
  {
   "cell_type": "code",
   "execution_count": 88,
   "metadata": {},
   "outputs": [
    {
     "name": "stdout",
     "output_type": "stream",
     "text": [
      "Antes da listcomp =  ['Python', 'Java', 'JavaScript', 'C', 'C#', 'C++', 'Swift', 'Go', 'Kotlin']\n",
      "\n",
      "Depois da listcomp =  ['python', 'java', 'javascript', 'c', 'c#', 'c++', 'swift', 'go', 'kotlin']\n"
     ]
    }
   ],
   "source": [
    "linguagens = [\"Python\", \"Java\", \"JavaScript\", \"C\", \"C#\", \"C++\",\n",
    "\"Swift\", \"Go\", \"Kotlin\"]\n",
    "\n",
    "'''linguagens = Python Java JavaScript C C# C++ Swift Go Kotlin.split()  Essa sintaxe produz o mesmo resultado que a linha 1'''\n",
    "\n",
    "print(\"Antes da listcomp = \", linguagens)\n",
    "linguagens = [item.lower() for item in linguagens]\n",
    "print(\"\\nDepois da listcomp = \", linguagens)\n"
   ]
  },
  {
   "cell_type": "markdown",
   "metadata": {},
   "source": [
    "FUNÇÕES MAP() E FILTER() \n",
    "\n",
    "A função map() é utilizada para aplicar \n",
    "uma determinada função em cada item de um objeto iterável. Para que essa \n",
    "transformação seja feita, a função map() exige que sejam passados dois parâmetros (map é bem parecida com a listcomp)"
   ]
  },
  {
   "cell_type": "code",
   "execution_count": 98,
   "metadata": {},
   "outputs": [
    {
     "name": "stdout",
     "output_type": "stream",
     "text": [
      "Exemplo 1\n",
      "['Python', 'Java', 'JavaScript', 'C', 'C#', 'C++', 'Swift', 'Go', 'Kotlin']\n",
      "A nova lista é = <map object at 0x00000186005770D0>\n",
      "\n",
      "Agora sim, a nova lista é = ['python', 'java', 'javascript', 'c', 'c#', 'c++', 'swift', 'go', 'kotlin']\n"
     ]
    }
   ],
   "source": [
    "# Exemplo 1\n",
    "print(\"Exemplo 1\")\n",
    "linguagens = \"Python Java JavaScript C C# C++ Swift Go Kotlin\".split()\n",
    "print(linguagens)\n",
    "nova_lista = map(lambda x: x.lower(), linguagens) # função lambda, é que a função é é chamada somente 1x\n",
    "print(f\"A nova lista é = {nova_lista}\\n\")\n",
    "nova_lista = list(nova_lista)\n",
    "print(f\"Agora sim, a nova lista é = {nova_lista}\")"
   ]
  },
  {
   "cell_type": "markdown",
   "metadata": {},
   "source": [
    "A função filter() tem as mesmas características da função map(), mas, em vez de \n",
    "usarmos uma função para transformar os valores da lista, nós a usamos para filtrar"
   ]
  },
  {
   "cell_type": "code",
   "execution_count": 103,
   "metadata": {},
   "outputs": [
    {
     "name": "stdout",
     "output_type": "stream",
     "text": [
      "[0, 2, 4, 6, 8, 10, 12, 14, 16, 18, 20]\n"
     ]
    }
   ],
   "source": [
    "numeros = list(range(0, 21))\n",
    "numeros_pares = list(filter(lambda x: x % 2 == 0, numeros))\n",
    "print(numeros_pares)\n",
    "\n"
   ]
  },
  {
   "cell_type": "markdown",
   "metadata": {},
   "source": [
    "TUPLA, é igual a uma lista , a diferença é que ela é IMUTÀVEL (não se altera)\n",
    "\n",
    "Em Python, as tuplas podem ser construídas de três maneiras:\n",
    "\n",
    "• Usando um par de parênteses para denotar uma tupla vazia: tupla1 = ()\n",
    "\n",
    "• Usando um par de parênteses e elementos separados por vírgulas: tupla2 = ('a', 'b', 'c')\n",
    "\n",
    "• Usando o construtor de tipo: tuple()\n"
   ]
  },
  {
   "cell_type": "code",
   "execution_count": 106,
   "metadata": {},
   "outputs": [
    {
     "name": "stdout",
     "output_type": "stream",
     "text": [
      "Tipo do objeto vogais = <class 'tuple'>\n",
      "Posição = 0, valor = a\n",
      "Posição = 1, valor = e\n",
      "Posição = 2, valor = i\n",
      "Posição = 3, valor = o\n",
      "Posição = 4, valor = u\n"
     ]
    }
   ],
   "source": [
    "vogais = ('a', 'e', 'i', 'o', 'u')\n",
    "print(f\"Tipo do objeto vogais = {type(vogais)}\")\n",
    "for p, x in enumerate(vogais):\n",
    " print(f\"Posição = {p}, valor = {x}\")\n"
   ]
  },
  {
   "cell_type": "markdown",
   "metadata": {},
   "source": [
    "OBJETO DO TIPO SET\n",
    " Um objeto do tipo set habilita operações matemáticas de \n",
    "conjuntos, tais como: união, intersecção, diferenteça, etc. Esse tipo de estrutura pode ser \n",
    "usado, portanto, em testes de associação e remoção de valores duplicados de uma \n",
    "sequência"
   ]
  },
  {
   "cell_type": "markdown",
   "metadata": {},
   "source": [
    "OBJETOS DO TIPO MAPPING\n",
    "As estruturas de dados que possuem um mapeamento entre uma chave e um valor são \n",
    "consideradas objetos do tipo mapping. Em Python, o objeto que possui essa propriedade \n",
    "é o dict (dicionário). Uma vez que esse objeto é mutável, conseguimos atribuir um \n",
    "novo valor a uma chave já existente.\n",
    "\n",
    "Podemos construir dicionários em Python das seguintes maneiras:\n",
    "\n",
    "• Usando um par de chaves para denotar um dict vazio: dicionario1 = {}\n",
    "\n",
    "• Usando um par de elementos na forma, chave : valor separados por vírgulas: \n",
    "dicionario2 = {'one': 1, 'two': 2, 'three': 3}\n",
    "\n",
    "• Usando o construtor de tipo: dict()\n",
    "\n",
    "Observe os exemplos a seguir com maneiras de construir o dicionár\n"
   ]
  },
  {
   "cell_type": "code",
   "execution_count": 113,
   "metadata": {},
   "outputs": [
    {
     "name": "stdout",
     "output_type": "stream",
     "text": [
      "True\n"
     ]
    },
    {
     "data": {
      "text/plain": [
       "True"
      ]
     },
     "execution_count": 113,
     "metadata": {},
     "output_type": "execute_result"
    }
   ],
   "source": [
    "# Exemplo 1 - Criação de dicionário vazio, com atribuição posterior de chave e valor \n",
    "dici_1 = {}\n",
    "dici_1['nome'] = \"João\"\n",
    "dici_1['idade'] = 30\n",
    "# Exemplo 2 - Criação de dicionário usando um par elementos na forma, chave : valor\n",
    "dici_2 = {'nome': 'João', 'idade': 30}\n",
    "\n",
    "# Exemplo 3 - Criação de dicionário com uma lista de tuplas. Cada tupla representa um par chave : valor\n",
    "dici_3 = dict([('nome', \"João\"), ('idade', 30)])\n",
    "# Exemplo 4 - Criação de dicionário com a função built-in zip() e duas listas, uma com as chaves, outra com os valores.\n",
    "dici_4 = dict(zip(['nome', 'idade'], [\"João\", 30]))\n",
    "\n",
    "print(dici_1 == dici_2 == dici_3 == dici_4) # Testando se as diferentes construções resultamo em objetos iguais.\n",
    "True"
   ]
  },
  {
   "cell_type": "markdown",
   "metadata": {},
   "source": [
    "OBJETOS DO TIPO ARRAY NUMPY\n",
    "Quando o assunto é estrutura de dados em Python, não podemos deixar de falar dos \n",
    "objetos array numpy. Primeiramente, todas os objetos e funções que usamos até o \n",
    "momento fazem parte do core do interpretador Python, o que quer dizer que tudo está já \n",
    "instalado e pronto para usar. Além desses inúmeros recursos já disponíveis, podemos \n",
    "fazer um certo tipo de instalação e usar objetos e funções que outras \n",
    "pessoas/organizações desenvolveram e disponibilizaram de forma gratuita. Esse é o \n",
    "caso da biblioteca NumPy, criada especificamente para a computação científica com \n",
    "\n",
    "Python. O NumPy contém, entre outras coisas:\n",
    "\n",
    "• Um poderoso objeto de matriz (array) N-dimensional.\n",
    "\n",
    "• Funções sofisticadas.\n",
    "\n",
    "• Ferramentas para integrar código C/C++ e Fortran.\n",
    "\n",
    "• Recursos úteis de álgebra linear, transformação de Fourier e números aleatórios.\n",
    "\n",
    "O endereço com a documentação completa da biblioteca NumPy está disponível \n",
    "em https://numpy.org/. Sem dúvida, o NumPy é a biblioteca mais poderosa para \n",
    "trabalhar com dados tabulares (matrizes), além de ser um recurso essencial para os \n",
    "desenvolvedores científicos, como os que desenvolvem soluções de inteligência \n",
    "artificial para imagens.\n",
    "Para utilizar a biblioteca NumPy é preciso fazer a instalação com o comando pip \n",
    "install numpy. No entanto, se você estiver usando o projeto Anaconda, ou o Google \n",
    "Colab, esse recurso já estará instalado. Além da instalação, toda vez que for usar \n",
    "recusos da biblioteca, é necessário importar a biblioteca para o projeto, como o \n",
    "comando import numpy. Observe o códgio a seguir."
   ]
  },
  {
   "cell_type": "code",
   "execution_count": 116,
   "metadata": {},
   "outputs": [
    {
     "name": "stdout",
     "output_type": "stream",
     "text": [
      "<class 'numpy.ndarray'>\n",
      "\n",
      " matriz_1_1 =  [1 2 3]\n",
      "\n",
      " matriz_2_2 = \n",
      " [[1 2]\n",
      " [3 4]]\n",
      "\n",
      " matriz_3_2 = \n",
      " [[1 2]\n",
      " [3 4]\n",
      " [5 6]]\n",
      "\n",
      " matriz_2_3 = \n",
      " [[1 2 3]\n",
      " [4 5 6]]\n"
     ]
    }
   ],
   "source": [
    "import numpy\n",
    "matriz_1_1 = numpy.array([1, 2, 3]) # Cria matriz 1 linha e 1 coluna\n",
    "matriz_2_2 = numpy.array([[1, 2], [3, 4]]) # Cria matriz 2 linhas e 2 colunas\n",
    "matriz_3_2 = numpy.array([[1, 2], [3, 4], [5, 6]]) # Cria matriz 3 linhas e 2 colunas\n",
    "matriz_2_3 = numpy.array([[1, 2, 3], [4, 5, 6]]) # Cria matriz 2 linhas e 3 colunas\n",
    "print(type(matriz_1_1))\n",
    "print('\\n matriz_1_1 = ', matriz_1_1)\n",
    "print('\\n matriz_2_2 = \\n', matriz_2_2)\n",
    "print('\\n matriz_3_2 = \\n', matriz_3_2)\n",
    "print('\\n matriz_2_3 = \\n', matriz_2_3)\n"
   ]
  }
 ],
 "metadata": {
  "kernelspec": {
   "display_name": "Python 3",
   "language": "python",
   "name": "python3"
  },
  "language_info": {
   "codemirror_mode": {
    "name": "ipython",
    "version": 3
   },
   "file_extension": ".py",
   "mimetype": "text/x-python",
   "name": "python",
   "nbconvert_exporter": "python",
   "pygments_lexer": "ipython3",
   "version": "3.11.4"
  },
  "orig_nbformat": 4
 },
 "nbformat": 4,
 "nbformat_minor": 2
}
