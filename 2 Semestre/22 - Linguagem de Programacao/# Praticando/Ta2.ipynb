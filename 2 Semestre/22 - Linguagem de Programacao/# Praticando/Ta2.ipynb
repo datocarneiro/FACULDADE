{
 "cells": [
  {
   "cell_type": "markdown",
   "metadata": {},
   "source": [
    "ESTRUTURA DO TIPO SEQUENCIA: Lista, Tuplas, Set, Dicionario"
   ]
  },
  {
   "cell_type": "code",
   "execution_count": 30,
   "metadata": {},
   "outputs": [
    {
     "name": "stdout",
     "output_type": "stream",
     "text": [
      "0 j\n",
      "1 o\n",
      "2 n\n",
      "3 a\n",
      "4 t\n",
      "5 h\n",
      "3 a\n",
      "7 s\n"
     ]
    }
   ],
   "source": [
    "nome = ['j','o','n','a','t','h','a','s']\n",
    "for i in nome:\n",
    "    print(nome.index(i), i) #função index retorna a posição de um elemento  em uma lista"
   ]
  },
  {
   "cell_type": "markdown",
   "metadata": {},
   "source": [
    "Função split() , pode se usada para transformar um texto em uma lista, dicionario "
   ]
  },
  {
   "cell_type": "code",
   "execution_count": 85,
   "metadata": {},
   "outputs": [
    {
     "name": "stdout",
     "output_type": "stream",
     "text": [
      "quantas letras a?: True\n",
      "quantas letras a?: 3\n",
      "['Dato', 'Carneiro', 'dos', 'santos']\n",
      "\n",
      "True\n",
      "False\n",
      "True\n",
      "banana\n",
      "10\n",
      "2\n",
      "['maça', 'banana', 'uva', 'mamão', 'maça', 8.7, 5.2, 10, 3.5]\n",
      "['maça', 'banana', 'uva', 'mamão', 'maça', 'maça', 'banana', 'uva', 'mamão', 'maça']\n"
     ]
    }
   ],
   "source": [
    "texto = \"Dato;Carneiro;dos;santos\"\n",
    "print(\"quantas letras a?:\", \"a\" in texto)\n",
    "print(\"quantas letras a?:\", texto.count(\"a\"))\n",
    "lista = texto.split(\";\") #o delimitador aqui é o ;, mas poderia ser qualquer caracter\n",
    "print(lista)\n",
    "print()\n",
    "\n",
    "frutas = [\"maça\", \"banana\", \"uva\", \"mamão\", \"maça\"]\n",
    "notas = [8.7, 5.2, 10, 3.5]\n",
    "print(\"maça\" in frutas) # True\n",
    "print(\"abacate\" in frutas) # False\n",
    "print(\"abacate\" not in frutas) # True\n",
    "print(min(frutas)) # banana\n",
    "print(max(notas)) # 10\n",
    "print(frutas.count(\"maça\")) # 2\n",
    "print(frutas + notas)\n",
    "print(2 * frutas)"
   ]
  },
  {
   "cell_type": "markdown",
   "metadata": {},
   "source": []
  }
 ],
 "metadata": {
  "kernelspec": {
   "display_name": "Python 3",
   "language": "python",
   "name": "python3"
  },
  "language_info": {
   "codemirror_mode": {
    "name": "ipython",
    "version": 3
   },
   "file_extension": ".py",
   "mimetype": "text/x-python",
   "name": "python",
   "nbconvert_exporter": "python",
   "pygments_lexer": "ipython3",
   "version": "3.11.4"
  },
  "orig_nbformat": 4
 },
 "nbformat": 4,
 "nbformat_minor": 2
}
