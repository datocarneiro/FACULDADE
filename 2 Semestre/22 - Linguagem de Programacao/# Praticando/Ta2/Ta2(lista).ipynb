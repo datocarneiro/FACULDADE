{
 "cells": [
  {
   "cell_type": "markdown",
   "metadata": {},
   "source": [
    "78. Ler 5 valores numériocos e guarde-os em uma lista, no fim mostre qual foi o maior e o menor valor, e suas posições"
   ]
  },
  {
   "cell_type": "code",
   "execution_count": 1,
   "metadata": {},
   "outputs": [
    {
     "name": "stdout",
     "output_type": "stream",
     "text": [
      "a lista atual é =[10]\n",
      "a lista atual é =[10, 20]\n",
      "a lista atual é =[10, 20, 1]\n",
      "a lista atual é =[10, 20, 1, 89]\n",
      "a lista atual é =[10, 20, 1, 89, 151515]\n",
      "o menor é: 151515, e seu índice é: 4\n",
      "o menor é: 1, e seu índice é: 2\n",
      "fim\n"
     ]
    }
   ],
   "source": [
    "lista = []\n",
    "for i in range(5):\n",
    "    valores = int(input(\"digite: \"))\n",
    "    lista.append(valores)\n",
    "    print(f'a lista atual é ={lista}')\n",
    "maior = max(lista)\n",
    "menor = min(lista)\n",
    "print(f'o maior é: {maior}, e seu índice é: {lista.index(maior)}')\n",
    "print(f'o menor é: {menor}, e seu índice é: {lista.index(menor)}')\n",
    "print(\"fim\")\n",
    "\n",
    "\n",
    "   \n"
   ]
  },
  {
   "cell_type": "markdown",
   "metadata": {},
   "source": [
    "79. criar um programa onde o usuario possa digitar varios valores numéricos e cadastre-os em uma lista. caso o numero ja exista, não será adicionado. no final serão exibidos todos os valores unicos digitados em ordem crescente"
   ]
  },
  {
   "cell_type": "code",
   "execution_count": 1,
   "metadata": {},
   "outputs": [
    {
     "ename": "KeyboardInterrupt",
     "evalue": "Interrupted by user",
     "output_type": "error",
     "traceback": [
      "\u001b[1;31m---------------------------------------------------------------------------\u001b[0m",
      "\u001b[1;31mKeyboardInterrupt\u001b[0m                         Traceback (most recent call last)",
      "Cell \u001b[1;32mIn[1], line 5\u001b[0m\n\u001b[0;32m      1\u001b[0m lista \u001b[39m=\u001b[39m []\n\u001b[0;32m      3\u001b[0m \u001b[39mwhile\u001b[39;00m \u001b[39mTrue\u001b[39;00m:\n\u001b[1;32m----> 5\u001b[0m     valores \u001b[39m=\u001b[39m \u001b[39mint\u001b[39m(\u001b[39minput\u001b[39;49m(\u001b[39m\"\u001b[39;49m\u001b[39mdigite: \u001b[39;49m\u001b[39m\"\u001b[39;49m))\n\u001b[0;32m      6\u001b[0m     \u001b[39mif\u001b[39;00m valores \u001b[39mnot\u001b[39;00m \u001b[39min\u001b[39;00m lista: \u001b[39m# not it , valida se ainda não existe valores em lista\u001b[39;00m\n\u001b[0;32m      7\u001b[0m         lista\u001b[39m.\u001b[39mappend(valores)\n",
      "File \u001b[1;32m~\\AppData\\Roaming\\Python\\Python311\\site-packages\\ipykernel\\kernelbase.py:1202\u001b[0m, in \u001b[0;36mKernel.raw_input\u001b[1;34m(self, prompt)\u001b[0m\n\u001b[0;32m   1200\u001b[0m     msg \u001b[39m=\u001b[39m \u001b[39m\"\u001b[39m\u001b[39mraw_input was called, but this frontend does not support input requests.\u001b[39m\u001b[39m\"\u001b[39m\n\u001b[0;32m   1201\u001b[0m     \u001b[39mraise\u001b[39;00m StdinNotImplementedError(msg)\n\u001b[1;32m-> 1202\u001b[0m \u001b[39mreturn\u001b[39;00m \u001b[39mself\u001b[39;49m\u001b[39m.\u001b[39;49m_input_request(\n\u001b[0;32m   1203\u001b[0m     \u001b[39mstr\u001b[39;49m(prompt),\n\u001b[0;32m   1204\u001b[0m     \u001b[39mself\u001b[39;49m\u001b[39m.\u001b[39;49m_parent_ident[\u001b[39m\"\u001b[39;49m\u001b[39mshell\u001b[39;49m\u001b[39m\"\u001b[39;49m],\n\u001b[0;32m   1205\u001b[0m     \u001b[39mself\u001b[39;49m\u001b[39m.\u001b[39;49mget_parent(\u001b[39m\"\u001b[39;49m\u001b[39mshell\u001b[39;49m\u001b[39m\"\u001b[39;49m),\n\u001b[0;32m   1206\u001b[0m     password\u001b[39m=\u001b[39;49m\u001b[39mFalse\u001b[39;49;00m,\n\u001b[0;32m   1207\u001b[0m )\n",
      "File \u001b[1;32m~\\AppData\\Roaming\\Python\\Python311\\site-packages\\ipykernel\\kernelbase.py:1245\u001b[0m, in \u001b[0;36mKernel._input_request\u001b[1;34m(self, prompt, ident, parent, password)\u001b[0m\n\u001b[0;32m   1242\u001b[0m \u001b[39mexcept\u001b[39;00m \u001b[39mKeyboardInterrupt\u001b[39;00m:\n\u001b[0;32m   1243\u001b[0m     \u001b[39m# re-raise KeyboardInterrupt, to truncate traceback\u001b[39;00m\n\u001b[0;32m   1244\u001b[0m     msg \u001b[39m=\u001b[39m \u001b[39m\"\u001b[39m\u001b[39mInterrupted by user\u001b[39m\u001b[39m\"\u001b[39m\n\u001b[1;32m-> 1245\u001b[0m     \u001b[39mraise\u001b[39;00m \u001b[39mKeyboardInterrupt\u001b[39;00m(msg) \u001b[39mfrom\u001b[39;00m \u001b[39mNone\u001b[39;00m\n\u001b[0;32m   1246\u001b[0m \u001b[39mexcept\u001b[39;00m \u001b[39mException\u001b[39;00m:\n\u001b[0;32m   1247\u001b[0m     \u001b[39mself\u001b[39m\u001b[39m.\u001b[39mlog\u001b[39m.\u001b[39mwarning(\u001b[39m\"\u001b[39m\u001b[39mInvalid Message:\u001b[39m\u001b[39m\"\u001b[39m, exc_info\u001b[39m=\u001b[39m\u001b[39mTrue\u001b[39;00m)\n",
      "\u001b[1;31mKeyboardInterrupt\u001b[0m: Interrupted by user"
     ]
    }
   ],
   "source": [
    "lista = []\n",
    "\n",
    "while True:\n",
    "    \n",
    "    valores = int(input(\"digite: \"))\n",
    "    if valores not in lista: # not it , valida se ainda não existe valores em lista\n",
    "        lista.append(valores)\n",
    "        print(\"valor adicionadoo\")\n",
    "        print(f'sua lista atual é: {lista}')\n",
    "    else:\n",
    "        print(\"valor não pode ser duplicado, tente outro\")\n",
    "    continuar = input(\"quer contunua?: (S/N)\")\n",
    "    if continuar in \"Nn\":\n",
    "        break\n",
    "print(f'lista em ordem crescente: {sorted(lista)}')\n",
    "\n",
    "\n",
    "\n",
    "   \n",
    "\n"
   ]
  },
  {
   "cell_type": "markdown",
   "metadata": {},
   "source": [
    "80. crei um programa onde o usuario possa digitar cinco valores numéricos e cadastre-os em uma lista , ja na posição correta de inserção (sem usar o sort()). No final mostre a lista ordenada na tela"
   ]
  },
  {
   "cell_type": "code",
   "execution_count": 11,
   "metadata": {},
   "outputs": [
    {
     "name": "stdout",
     "output_type": "stream",
     "text": [
      "------------------------------\n",
      "[4, 5, 20, 99, 789]\n"
     ]
    }
   ],
   "source": [
    "lista = []\n",
    "\n",
    "for i in range(0, 5):\n",
    "    valor = int(input('digite um valor:'))\n",
    "    if i == 0 or valor > lista[-1]:\n",
    "        lista.append(valor)\n",
    "    else:\n",
    "        pos = 0\n",
    "        while pos < len(lista):\n",
    "            if valor <= lista[pos]:\n",
    "                lista.insert(pos, valor)\n",
    "                break\n",
    "            pos += 1\n",
    "print(\"-\" *30)\n",
    "print(lista)\n"
   ]
  }
 ],
 "metadata": {
  "kernelspec": {
   "display_name": "Python 3",
   "language": "python",
   "name": "python3"
  },
  "language_info": {
   "codemirror_mode": {
    "name": "ipython",
    "version": 3
   },
   "file_extension": ".py",
   "mimetype": "text/x-python",
   "name": "python",
   "nbconvert_exporter": "python",
   "pygments_lexer": "ipython3",
   "version": "3.11.4"
  },
  "orig_nbformat": 4
 },
 "nbformat": 4,
 "nbformat_minor": 2
}
