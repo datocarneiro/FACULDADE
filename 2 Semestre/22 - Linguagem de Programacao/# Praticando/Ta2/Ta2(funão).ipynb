{
 "cells": [
  {
   "cell_type": "markdown",
   "metadata": {},
   "source": [
    "Funções - util para criar trechos de códigos que serão usados com frequencia, ao inves de sempre criar o trecho inteiro no código, é só chama a função pelo seu nome exemplo: item.tabelafor()\n",
    "\n",
    "Sintaxe PEP8 'letras minúsculas\n",
    "\n",
    "\"def nomedafuncao(): \""
   ]
  },
  {
   "cell_type": "code",
   "execution_count": 106,
   "metadata": {},
   "outputs": [
    {
     "name": "stdout",
     "output_type": "stream",
     "text": [
      "NOME................    DATO\n",
      "SOBRENOME...........CARNEIRO\n",
      "IDADE...............       5\n",
      "SEXO................    MASC\n"
     ]
    }
   ],
   "source": [
    "dicionario = {\"NOME\":\"DATO\", \"SOBRENOME\":\"CARNEIRO\", \"IDADE\": 5, \"SEXO\": \"MASC\" }\n",
    "def tabelafor():\n",
    "    for chave, valor in dicionario.items():\n",
    "            print(f'{chave:.<20}', end=\"\")\n",
    "            print(f'{valor:>8}')\n",
    "\n",
    "#invocando/chamando a função\n",
    "tabelafor()"
   ]
  },
  {
   "cell_type": "markdown",
   "metadata": {},
   "source": [
    "CHAMANDO A MESMA FUNÇAÕ EM TRECHOS DIFERENTES DO CÓDIGO "
   ]
  },
  {
   "cell_type": "code",
   "execution_count": 107,
   "metadata": {},
   "outputs": [
    {
     "name": "stdout",
     "output_type": "stream",
     "text": [
      "NOME................  JOSHUA\n",
      "SOBRENOME........... MATHIAS\n",
      "IDADE...............       1\n",
      "SEXO................    MASC\n"
     ]
    }
   ],
   "source": [
    "dicionario = {\"NOME\":\"JOSHUA\", \"SOBRENOME\":\"MATHIAS\", \"IDADE\": 1, \"SEXO\": \"MASC\" }\n",
    "tabelafor()"
   ]
  }
 ],
 "metadata": {
  "kernelspec": {
   "display_name": "Python 3",
   "language": "python",
   "name": "python3"
  },
  "language_info": {
   "codemirror_mode": {
    "name": "ipython",
    "version": 3
   },
   "file_extension": ".py",
   "mimetype": "text/x-python",
   "name": "python",
   "nbconvert_exporter": "python",
   "pygments_lexer": "ipython3",
   "version": "3.11.4"
  },
  "orig_nbformat": 4
 },
 "nbformat": 4,
 "nbformat_minor": 2
}
