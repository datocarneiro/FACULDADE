{
 "cells": [
  {
   "cell_type": "markdown",
   "metadata": {},
   "source": [
    "90. Faça um programa que leia nome e média de um aluno,  guardando também a situação em dicionario. No final mostre o conteúdo da estrutura na tela"
   ]
  },
  {
   "cell_type": "code",
   "execution_count": 10,
   "metadata": {},
   "outputs": [
    {
     "name": "stdout",
     "output_type": "stream",
     "text": [
      "{'nome': 'jonathas', 'media': 5.0, 'situação': 'Reprovado'}\n",
      "o nome digitado foi: jonathas\n",
      "a média digitado foi: 5.0\n",
      "e a situação é: Reprovado\n"
     ]
    }
   ],
   "source": [
    "dicionario = dict()\n",
    "\n",
    "nome = input(\"Nome:\")\n",
    "média = float(input(f\"média de {nome}: \"))\n",
    "if média >= 7.0:\n",
    "    situação = \"Aprovado\"\n",
    "else:\n",
    "    situação = \"Reprovado\"\n",
    "dicionario = {\"nome\":nome, \"media\": média, \"situação\": situação}\n",
    "print(dicionario)\n",
    "print(f'o nome digitado foi: {dicionario[\"nome\"]}')\n",
    "print(f'a média digitado foi: {dicionario[\"media\"]}')\n",
    "print(f'e a situação é: {dicionario[\"situação\"]}')\n",
    "\n",
    "\n"
   ]
  },
  {
   "cell_type": "markdown",
   "metadata": {},
   "source": [
    "91. crei um programa onde 4 jogadores joguem um dado e tenham resultados aleatórios. Guarde esses resultados em um dicionario. No final, coloque em ordem, sabendo que oi vencedor toru o maior número no dado"
   ]
  },
  {
   "cell_type": "code",
   "execution_count": 12,
   "metadata": {},
   "outputs": [
    {
     "name": "stdout",
     "output_type": "stream",
     "text": [
      "o jogador1, tirou 4\n",
      "o jogador2, tirou 3\n",
      "o jogador3, tirou 6\n",
      "o jogador4, tirou 5\n",
      "6\n",
      "6\n",
      "6\n",
      "6\n"
     ]
    }
   ],
   "source": [
    "from random import randint\n",
    "import time\n",
    "\n",
    "jogadores = {}\n",
    "\n",
    "for i in range(0, 4):\n",
    "    jogadores[i] = randint(1, 6)\n",
    "    time.sleep(0.5)\n",
    "    print(f'o jogador{i+1}, tirou {jogadores[i]}')\n",
    "\n",
    "\n",
    "for m in range(0, len(jogadores)):\n",
    "    maior = max(jogadores.values())\n",
    "    print(maior)\n",
    "\n",
    "   \n",
    "\n",
    "\n"
   ]
  },
  {
   "cell_type": "markdown",
   "metadata": {},
   "source": [
    "92. crie um programa que leia o nome , ano de nascimento e a carteira de trabalho e cadastre-os em um dicionario ser por acaso a carteira for o dicionario receberá tambem o  ano de contração  e  o salário. calcule e acrecente alem da idade com quantos anos a pessoa vao se aposentar "
   ]
  },
  {
   "cell_type": "code",
   "execution_count": 151,
   "metadata": {},
   "outputs": [
    {
     "name": "stdout",
     "output_type": "stream",
     "text": [
      "nome tem valor dato\n",
      "idade tem valor 36\n",
      "carteira tem valor 123\n",
      "salario  tem valor 5000.0\n",
      "aposentadoria com 54 anos\n"
     ]
    }
   ],
   "source": [
    "import datetime\n",
    "\n",
    "ano_atual = datetime.datetime.now().year\n",
    "dicionario = dict()\n",
    "\n",
    "nome = input(\"Nome:\")\n",
    "ano = int(input(\" Ano de nascimento: \"))\n",
    "\n",
    "carteira = int(input(\"numero  da carteira (se não tem digite 0): \"))\n",
    "if carteira != 0:\n",
    "    ano_contratacao = int(input(\"digite o ano de contratação:\"))\n",
    "    salario = float(input(\"digite o salario:\"))\n",
    "    idade = ano_atual - ano\n",
    "    aposentadoria = (ano_contratacao + 35) - ano\n",
    "    dicionario = {\"nome\":nome, \"ano de nascimento\": ano, \"carteira\": carteira, \"salário\": salario, \"idade\": idade, \"aposentadoria\": aposentadoria}\n",
    "    print(f'nome tem valor {nome}')\n",
    "    print(f'idade tem valor {idade}')\n",
    "    print(f'carteira tem valor {carteira}')\n",
    "    print(f'salario  tem valor {salario}')\n",
    "    print(f'aposentadoria com {aposentadoria} anos')\n",
    "else:\n",
    "    idade = ano_atual - ano\n",
    "    dicionario = {\"nome\":nome, \"ano de nascimento\": ano, \"carteira\": carteira, \"idade\": idade}\n",
    "    print(f'nome tem valor {nome}')\n",
    "    print(f'idade tem valor {idade}')\n",
    "    print(f'carteira tem valor {carteira}')\n"
   ]
  },
  {
   "cell_type": "markdown",
   "metadata": {},
   "source": [
    "DESAFIO 93\n",
    "\n",
    "Criar um programa\n",
    "que gerencia o\n",
    "desempenho de um futebol\n",
    "jogador. O programa\n",
    "vai ler o jogador\n",
    "nome e quantospartidas que ele jogou. Então você vai ler\n",
    "o número de gols\n",
    "marcou em cada\n",
    ". No final, tude será salvo em\n",
    "Um dicionário.\n",
    "incluindo o total de\n",
    "gols marcados durante o\n",
    "campeonato."
   ]
  },
  {
   "cell_type": "code",
   "execution_count": 23,
   "metadata": {},
   "outputs": [
    {
     "name": "stdout",
     "output_type": "stream",
     "text": [
      "{'Jogador': 'datooo', 'Partidas': 3, 'Gol': [2, 6, 4], 'Total_gols': 12}\n",
      "-=-=-=-=-=-=-=-=-=-=-=-=-=-=-=-=-=-=-=-=-=-=-=-=-=-=-=-=-=-=-=-=-=-=-=-=-=-=-=-=\n",
      "o campo nome tem valor datooo\n",
      "o campo Gols tem valor [2, 6, 4]\n",
      "o campo Total tem valor 12\n",
      "-=-=-=-=-=-=-=-=-=-=-=-=-=-=-=-=-=-=-=-=-=-=-=-=-=-=-=-=-=-=-=-=-=-=-=-=-=-=-=-=\n",
      "o jogador datooo jogou 3\n",
      ">> na partida 0, fez ...2 gols\n",
      ">> na partida 1, fez ...6 gols\n",
      ">> na partida 2, fez ...4 gols\n",
      "foi um total de 12 de gols\n",
      "-=-=-=-=-=-=-=-=-=-=-=-=-=-=-=-=-=-=-=-=-=-=-=-=-=-=-=-=-=-=-=-=-=-=-=-=-=-=-=-=\n"
     ]
    }
   ],
   "source": [
    "dicionario = {}\n",
    "\n",
    "dicionario[\"Jogador\"] =  str(input(\"Nome do jogador: \"))\n",
    "dicionario[\"Partidas\"] = int(input(f'Qtas partida {dicionario[\"Jogador\"]} jogou?: '))\n",
    "dicionario[\"Gol\"] = []\n",
    "\n",
    "for p in range(0, dicionario[\"Partidas\"]):\n",
    "    dicionario[\"Gol\"].append((int(input(f'quantos gol fez na partida {p}?:  '))))\n",
    "\n",
    "for i in dicionario:\n",
    "    gols_feitos = dicionario[\"Gol\"]\n",
    "\n",
    "dicionario[\"Total_gols\"] = sum(gols_feitos)\n",
    "print(dicionario)\n",
    "print(\"-=\"*40)\n",
    "print(f'o campo nome tem valor {dicionario[\"Jogador\"]}')\n",
    "print(f'o campo Gols tem valor {dicionario[\"Gol\"]}')\n",
    "print(f'o campo Total tem valor {dicionario[\"Total_gols\"]}')\n",
    "print(\"-=\"*40)\n",
    "\n",
    "print(f'o jogador {dicionario[\"Jogador\"]} jogou {dicionario[\"Partidas\"]}')\n",
    "\n",
    "for i in range(0, len(gols_feitos)):\n",
    "    print(f'>> na partida {i}, fez ...{(gols_feitos[i])} gols')\n",
    "\n",
    "print(f'foi um total de {dicionario[\"Total_gols\"]} de gols')\n",
    "print(\"-=\"*40)\n"
   ]
  },
  {
   "cell_type": "markdown",
   "metadata": {},
   "source": [
    "94. Criar um programa\n",
    "que lê nome, sexo para\n",
    "idade de vários\n",
    "pessoas guardando\n",
    "os dados de cada um\n",
    "pessoa em um\n",
    "dicionário para todos\n",
    "dicionários em uma lista.\n",
    "Ao final mostra:\n",
    "A) Quantas pessoas\n",
    "foram registrados\n",
    "B) A idade média do\n",
    "grupo.\n",
    "C) Uma lista de todos\n",
    "as mulheres.\n",
    "D) Uma lista de todos\n",
    "pessoas com idade"
   ]
  },
  {
   "cell_type": "code",
   "execution_count": 42,
   "metadata": {},
   "outputs": [],
   "source": [
    "lista = [ \n",
    "  {\n",
    "\n",
    "    }\n",
    "\n",
    "]\n",
    "while True:\n",
    "    for i in lista:\n",
    "        nome = input('digite o nome: ')\n",
    "        sexo = str(input('digite o sexo [M/F]: '))\n",
    "        idade = int(input('digite a idadee: '))\n",
    "        nome[\"nomes\"] = lista.append(cadastro[1])\n",
    "\n",
    "    continuar = input(\"quer contunua?: [S/N]\")\n",
    "    if continuar in \"Nn\":\n",
    "        break\n",
    "\n",
    "\n",
    "print(lista)\n"
   ]
  }
 ],
 "metadata": {
  "kernelspec": {
   "display_name": "Python 3",
   "language": "python",
   "name": "python3"
  },
  "language_info": {
   "codemirror_mode": {
    "name": "ipython",
    "version": 3
   },
   "file_extension": ".py",
   "mimetype": "text/x-python",
   "name": "python",
   "nbconvert_exporter": "python",
   "pygments_lexer": "ipython3",
   "version": "3.11.4"
  },
  "orig_nbformat": 4
 },
 "nbformat": 4,
 "nbformat_minor": 2
}
