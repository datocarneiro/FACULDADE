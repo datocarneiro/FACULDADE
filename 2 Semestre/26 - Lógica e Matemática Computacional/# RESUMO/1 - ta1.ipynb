{
 "cells": [
  {
   "cell_type": "markdown",
   "metadata": {},
   "source": [
    "# ***RESUMO***\n",
    "Lógica computacional\n",
    " - Fundamentos da Lógica;\n",
    " - Evolução da Lógica;\n",
    " - Princípios Matemáticos.\n",
    "\n",
    "\n",
    "*  Competência da Unidade Conhecer elementos\n",
    "indispensáveis para um profissional da área de exatas\n",
    "no que diz respeito ao raciocínio lógico, crítico e\n",
    "estruturado, por meio de técnicas de demonstração\n",
    "Resumo: Abordaremos a introdução à lógica\n",
    "matemática, conhecendo e analisando as proposições\n",
    "Palavras-chave: lógica, indutiva, dedutiva\n",
    "*  Título da Teleaula: Princípios Fundamentais da\n",
    "Matemática e da Lógica\n",
    "*  Teleaula nº: 01\n"
   ]
  },
  {
   "cell_type": "markdown",
   "metadata": {},
   "source": [
    "*********************************\n",
    "*********************************"
   ]
  },
  {
   "cell_type": "markdown",
   "metadata": {},
   "source": [
    "# ***Fundamentos da lógica***\n",
    "\n",
    "* **A lógica** é a arte de pensar corretamente ou a lógica é um \n",
    "estudo dos modos corretos do pensamento(SOARES, 2014, \n",
    "p. 1).\n",
    "Segundo Forbellone (2005, p. 1), \n",
    "* lógica é a “**arte de bem pensar”**, que é a “ciência das formas do pensamento”.\n",
    "O estudo da lógica nos permite, portanto, de forma prática, \n",
    "entender  como  nosso  raciocínio  lógico  é  formado, \n",
    "fundamentar  nossos  argumentos,  escrever  e  registrar  de \n",
    "forma  organizada,  nos  comunicar  melhor,  além  de  fazer \n",
    "conexões  entre  diversos  assuntos  e  entender  melhor  o \n",
    "mundo que está a nossa volta. \n",
    "A  lógica  é  a  ciência  que  estuda  os  argumentos,  suas \n",
    "premissas  e  conclusões,  os  métodos  e  princípios  que \n",
    "possibilitam  a  distinção  entre  argumentos  válidos  e  não \n",
    "válidos.\n",
    "\n",
    "# Definições\n",
    "* **Proposição:**  consiste  em  um  enunciado,  uma  frase \n",
    "declarativa.\n",
    "*  **Premissas:**  consistem  em  proposições  que  são \n",
    "utilizadas como base para um raciocínio. Pode-se dizer \n",
    "que são as proposições do **silogismo.**\n",
    "*  **Argumento:** conjunto de enunciados que se relacionam \n",
    "uns com os outros.\n",
    "*  **Silogismo:**  consiste  em  um  raciocínio  dedutivo \n",
    "(premissas) e possibilita a **dedução de uma conclusão** a \n",
    "partir das premissas.\n",
    "* **Falácia:** consiste em argumentos que logicamente **estão incorretos.**\n"
   ]
  },
  {
   "cell_type": "markdown",
   "metadata": {},
   "source": [
    "# Proposições\n",
    "* Denomina-se  proposição  a  toda  frase  declarativa, \n",
    "expressa  em  palavras  ou  símbolos,  que  exprima  um \n",
    "juízo ao qual se possa atribuir, dentro de certo contexto, \n",
    "somente  um  de  dois  valores  lógicos  possíveis: \n",
    "**verdadeiro ou falso.** \n",
    "* Proposição:  consiste  em  um  enunciado,  uma  frase declarativa.\n",
    "\n",
    "\n",
    "Exemplos:\n",
    "\n",
    "Marte é um planeta do Sistema Solar. posso odizer que é verdadeiro\n",
    "\n",
    "São Paulo é a capital do Paraguai. - Falso\n",
    "\n",
    "O 11 é um número primo.. - Verdadeiro\n"
   ]
  },
  {
   "cell_type": "markdown",
   "metadata": {},
   "source": [
    "# Inferências\n",
    "* Inferência  é  o  processo  que  permite  chegar  a \n",
    "conclusões  a  partir  de  premissas,  constituindo  a \n",
    "argumentação lógica perfeita. \n",
    "* A inferência,, pode ser de dois tipos: indutiva e dedutiva.\n",
    "* Uma inferência inválida é chamada falácia. \n"
   ]
  },
  {
   "cell_type": "markdown",
   "metadata": {},
   "source": [
    "# ***Lógica Formal***\n",
    "A lógica formal começa nos estudos de Aristóteles, na\n",
    "Grécia Antiga.\n",
    "A lógica é dita formal quando analisa e representa a forma\n",
    "de qualquer argumento para que possa ser considerado\n",
    "válido para alguma conclusão.\n",
    "\n",
    "A lógica formal lida com as relações entre premissas e as\n",
    "conclusões que se chegam a partir das premissas,\n",
    "independentemente se a premissa é verdadeira ou falsa\n",
    "(MUNDIM, 2002).\n",
    "\n",
    "EXEMPLO: \n",
    "A partir de duas frases, que são as premissas, chegamos a\n",
    "uma conclusão:\n",
    "* primissa 1 - Todos os homens são mortais.\n",
    "* Primissa 2 - Elias é homem.\n",
    "* COnclusão - Logo, Elias é mortal.\n",
    "Fonte: Shutterstock\n"
   ]
  },
  {
   "cell_type": "markdown",
   "metadata": {},
   "source": [
    "# ***Classificação da Lógica***\n",
    "Classificadas como \n",
    "\n",
    "**INDUTIVA (induz, tem grande probabilidade de acontecer)** \n",
    "\n",
    "**DEDUTIVA (deduz, analisando algo em comum deduzo uma conclusão )**\n",
    "\n",
    "* Para a lógica indutiva, partiremos da experiência com as\n",
    "verdades e fatos particulares na busca de uma conclusão\n",
    "geral.\n",
    "* Para a lógica dedutiva, partiremos de premissas gerais\n",
    "para concluirmos verdades específicas e particulares.\n",
    "\n",
    "\n",
    "EXEMPLOS:\n",
    "- Indutiva:\n",
    "    - Ex: O Sol nasceu todas as \n",
    "    manhãs até hoje.  Logo, é \n",
    "    provável que nasça \n",
    "    amanhã. Combinação,\n",
    "    Probabilidades...\n",
    "- Dedutiva\n",
    "    - Ex: Todo homem é mortal. \n",
    "    Sócrates é um homem. Logo, \n",
    "    Sócrates é mortal.\n",
    "    Clássica e Não Clássica\n",
    "\n",
    "\n",
    "\n"
   ]
  }
 ],
 "metadata": {
  "language_info": {
   "name": "python"
  },
  "orig_nbformat": 4
 },
 "nbformat": 4,
 "nbformat_minor": 2
}
