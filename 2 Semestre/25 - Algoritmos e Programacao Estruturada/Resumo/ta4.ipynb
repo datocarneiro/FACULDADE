{
 "cells": [
  {
   "cell_type": "markdown",
   "metadata": {},
   "source": [
    "# ***RESUMO***\n",
    "\n",
    "* Estrutura de dados;\n",
    "    * Lista;\n",
    "    * Pilha;\n",
    "    * Fila;\n",
    "\n",
    "\n",
    "![Alt text](image-12.png)\n",
    "\n"
   ]
  },
  {
   "cell_type": "markdown",
   "metadata": {},
   "source": [
    "*************************************\n",
    "**************************************"
   ]
  },
  {
   "cell_type": "markdown",
   "metadata": {},
   "source": [
    "\n",
    " \n",
    "\n",
    "# ***Struct*** - Variavel especial\n",
    "Variável que armazena valores de tipos diferentes\n",
    "\n",
    "Abaixo esta a sintaze em C , do como eu declaro uma STRUCT"
   ]
  },
  {
   "cell_type": "code",
   "execution_count": null,
   "metadata": {},
   "outputs": [],
   "source": [
    "#include<stdio.h>\n",
    "\n",
    "struct automovel{\n",
    "char modelo [20];\n",
    "int ano;\n",
    "float valor;\n",
    "};\n",
    "\n",
    "main () {\n",
    "struct automovel dadosAutomovel;\n",
    "}\n",
    "\n",
    "\n"
   ]
  },
  {
   "cell_type": "markdown",
   "metadata": {},
   "source": [
    "![Alt text](image-14.png)"
   ]
  },
  {
   "cell_type": "markdown",
   "metadata": {},
   "source": [
    "***************************\n",
    "************************"
   ]
  },
  {
   "cell_type": "markdown",
   "metadata": {},
   "source": [
    "# ***ESTRUTURA DE DADOS*** \n",
    "\n",
    "# Lista Ligada\n",
    "\n",
    "* Estrutura de dados linear e dinâmica;\n",
    "* Cada elemento da sequência é armazenado em uma célula da lista;\n",
    "\n",
    "![Alt text](image-16.png)\n"
   ]
  },
  {
   "cell_type": "markdown",
   "metadata": {},
   "source": [
    "*  Criação ou definição da estrutura de uma lista.\n",
    "*  Inicialização da lista.\n",
    "*  Inserção com base em um endereço como referência.\n",
    "*  Alocação de um endereço de nó para inserção na lista.\n",
    "*  Remoção do nó com base em um endereço como \n",
    "referência. \n",
    "*  Deslocamento do nó removido da lista. \n",
    "\n",
    "![Alt text](image-17.png)"
   ]
  },
  {
   "cell_type": "markdown",
   "metadata": {},
   "source": [
    "************************\n",
    "****************************\n"
   ]
  },
  {
   "cell_type": "markdown",
   "metadata": {},
   "source": [
    "# ***Operação com Lista Ligada***\n",
    "\n",
    "\n",
    "# Adicionar elementos na lista - Insersão\n",
    "*  Para inserirmos um elemento na lista ligada, é\n",
    "necessário alocarmos o espaço na memória;\n",
    "*  Atualizar o valor do ponteiro;\n",
    "\n",
    "Posição do inserção\n",
    "-  Final da lista;\n",
    "-  Primeira posição da lista;\n",
    "-  No meio da lista;\n",
    "\n",
    "![Alt text](image-18.png)\n",
    "\n",
    "![Alt text](image-19.png)\n",
    "\n",
    "![Alt text](image-20.png)"
   ]
  }
 ],
 "metadata": {
  "kernelspec": {
   "display_name": "Python 3",
   "language": "python",
   "name": "python3"
  },
  "language_info": {
   "codemirror_mode": {
    "name": "ipython",
    "version": 3
   },
   "file_extension": ".py",
   "mimetype": "text/x-python",
   "name": "python",
   "nbconvert_exporter": "python",
   "pygments_lexer": "ipython3",
   "version": "3.11.5"
  },
  "orig_nbformat": 4
 },
 "nbformat": 4,
 "nbformat_minor": 2
}
