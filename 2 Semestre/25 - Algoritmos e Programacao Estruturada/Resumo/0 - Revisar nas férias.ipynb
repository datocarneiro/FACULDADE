{
 "cells": [
  {
   "cell_type": "markdown",
   "metadata": {},
   "source": [
    "# ***Matriz***\n",
    "\n",
    "# ***Vetores***\n",
    "\n",
    "# ***Ponteiros***\n",
    "\n",
    "# ***VPS***\n",
    "\n",
    "# ***Flask***\n",
    "\n",
    "# ***Pandas***\n",
    "\n",
    "# ***moplit***"
   ]
  },
  {
   "cell_type": "markdown",
   "metadata": {},
   "source": []
  }
 ],
 "metadata": {
  "language_info": {
   "name": "python"
  }
 },
 "nbformat": 4,
 "nbformat_minor": 2
}
