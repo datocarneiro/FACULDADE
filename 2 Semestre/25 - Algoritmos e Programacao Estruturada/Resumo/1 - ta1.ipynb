{
 "cells": [
  {
   "cell_type": "markdown",
   "metadata": {},
   "source": [
    "# ***Resumo***\n",
    "Linguagem C\n",
    "* Bibliotecas;\n",
    "* Função main()\n",
    "* Declaração de variáveis;\n",
    "* Operadores;\n",
    "* Comando de saída de dados;\n",
    "* Comando de entrada de dados;\n"
   ]
  },
  {
   "cell_type": "markdown",
   "metadata": {},
   "source": [
    "**************************************************\n",
    "***************************************************\n"
   ]
  },
  {
   "cell_type": "markdown",
   "metadata": {},
   "source": [
    "# ***ALGORITMO***\n",
    "Sequencia ordenada de passos que deve ser seguidos"
   ]
  },
  {
   "cell_type": "markdown",
   "metadata": {},
   "source": [
    "# ***Fluxo de um algoritmo***\n",
    "ENTRADAS > PROCESSAMENTO > SAÍDAS\n",
    "\n",
    "Importante:\n",
    "***Passos finitos;\n",
    "***Sem redundância;\n",
    "***Sem subje)vidade;\n",
    "***Deve ser claro e obje)vo;"
   ]
  },
  {
   "cell_type": "markdown",
   "metadata": {},
   "source": [
    "# ***Formas de algoritmo***\n",
    "* Descrição Narrativa;\n",
    "* Fluxograma;\n",
    "* Pseudocódigo;\n"
   ]
  },
  {
   "cell_type": "markdown",
   "metadata": {},
   "source": [
    "* ***DESCRIÇÃO NARRATIVA*** (USA A LINGUAGEM NATURAL)\n",
    "\n",
    "EXEMPLO: \n",
    "\n",
    "    * Receita do Bolo 2:\n",
    "        *  1. Misturar os ingredientes \n",
    "        *  2. Untar a forma com manteiga \n",
    "        *  3. Despejar a mistura na forma \n",
    "        *  4. Se houver coco ralado então despejar sobre a mistura \n",
    "        *  5. Levar a forma para o forno \n",
    "        *  6. Enquanto não corar, deixar a forma no forno \n",
    "        *  7. Re)rar a forma do bolo \n",
    "        *  8. Deixar esfriar \n"
   ]
  },
  {
   "cell_type": "markdown",
   "metadata": {},
   "source": [
    "* ***FLUXOGRAMA*** \n",
    "\n",
    "* Representação gráfica;\n",
    "* Cada forma geométrica define uma função genérica;\n",
    "* As formas geométricas são ligadas por flechas que indicam o fluxo da execução;\n",
    "\n",
    "![Alt text](image.png)\n",
    "\n",
    "![Alt text](image-1.png)\n",
    "\n",
    "Exemplo: \n",
    "\n",
    "![Alt text](image-2.png)\n"
   ]
  },
  {
   "cell_type": "markdown",
   "metadata": {},
   "source": [
    "# ***Pseudocódigo***\n",
    "\n",
    "* Assemelha-se a forma em que os programas são escritos;\n",
    "* Português estruturado;\n",
    "* A intenção é chegar na resolução do problema;\n",
    "\n",
    "![Alt text](image-10.png)\n",
    "\n",
    "EXEMPLO: \n",
    "\n",
    "    algoritmo “Calcula Media” \n",
    "    var \n",
    "        nota 1, nota 2, media: real \n",
    "    inicio \n",
    "        escreva(“Digite a primeira nota:”) \n",
    "        leia(nota 1)\n",
    "        escreva(“Digite a segunda nota:”) \n",
    "        leia(nota 2) \n",
    "        media<-(nota 1+nota 2)/2 \n",
    "        escreva(“Sua média é”, media) \n",
    "    fim algoritmo \n",
    "\n"
   ]
  },
  {
   "cell_type": "code",
   "execution_count": null,
   "metadata": {},
   "outputs": [],
   "source": []
  },
  {
   "cell_type": "markdown",
   "metadata": {},
   "source": [
    "******************************************************\n"
   ]
  },
  {
   "cell_type": "markdown",
   "metadata": {},
   "source": [
    "# ***COMPONENTES E ELEMENTOS DA PROGRAMAÇAO***\n",
    "\n",
    "***VARIÁVEIS***\n",
    "\n",
    "Local para armazenar dados\n",
    "\n",
    "* Tipo de variaveis \n",
    "    * Inteiro - Representa valores inteiros. Ex: 18; 300; -100;\n",
    "    * Real - Valores reais (decimal). Ex.: 5.5; 899.3; -22.22;\n",
    "    * Caractere - Sequência de um ou mais caracteres. Ex.: Leo; A;\n",
    "    * Lógico - Valores lógico: Verdadeiro, Falso. \n",
    "\n",
    "Regras de variáveis \n",
    "* Identificação única;\n",
    "* Nomes para as variáveis significativos;\n",
    "* Caracteres válidos: - números, letras maiúsculas ou minúsculas, underline (_);\n",
    "* Caracteres inválidos: -  “branco”, caracteres especiais(@, $, *, +, -, !, etc )\n",
    "* O primeiro caractere de uma variável deve ser uma letra;\n",
    "* Não pode usar palavras reservadas.\n",
    "\n"
   ]
  }
 ],
 "metadata": {
  "language_info": {
   "name": "python"
  },
  "orig_nbformat": 4
 },
 "nbformat": 4,
 "nbformat_minor": 2
}
