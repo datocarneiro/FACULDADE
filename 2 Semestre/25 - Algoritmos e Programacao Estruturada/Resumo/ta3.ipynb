{
 "cells": [
  {
   "cell_type": "markdown",
   "metadata": {},
   "source": [
    "# ***RESUMO***\n",
    "* Funções;\n",
    "* Funções com parâmetros;\n",
    "* Escopo e Passagem de Parâmetros;\n",
    "* Recursividade;\n"
   ]
  },
  {
   "cell_type": "markdown",
   "metadata": {},
   "source": [
    "*********************************************\n",
    "********************************************\n"
   ]
  },
  {
   "cell_type": "markdown",
   "metadata": {},
   "source": [
    "# ***FUNÇÕES***\n",
    "Técnica dividir para conquistar\n",
    "\n",
    "\n",
    "Trecho de código escrito para solucionar um\n",
    "subproblema;\n",
    "\n",
    "- Dividir a complexidade de um problema maior;\n",
    "- Evitar repe9ção de código;\n",
    "- Modularização;\n",
    "\n",
    "\n",
    "\n"
   ]
  },
  {
   "cell_type": "markdown",
   "metadata": {},
   "source": [
    "# ***Funções com Ponteiros***\n",
    "\n",
    "* ***Ponteiro***\n",
    "\n",
    "Tipo especial de variável, que armazena um endereço de memória;\n",
    "O acesso à memória é feito usando dois operadores:\n",
    "* Asterisco (*): \n",
    "    * usado para criação do ponteiro;\n",
    "* “&” : \n",
    "    * Acessar o endereço da memória;\n",
    "\n",
    "Ponteiro\n",
    "<tipo> *<nome_do_ponteiro>;\n",
    "\n",
    "Exemplo: int*idade;\n",
    "\n",
    "A criação de um ponteiro só faz sen9do se for\n",
    "associada a algum endereço de memória.\n",
    "1. int ano = 2018; \n",
    "2. int *ponteiro_para_ano = &ano; \n",
    "\n",
    "![Alt text](image-4.png)\n",
    "\n"
   ]
  },
  {
   "cell_type": "code",
   "execution_count": null,
   "metadata": {},
   "outputs": [],
   "source": [
    "#include<stdio.h>\n",
    "int* gerarRandomico() {\n",
    "estático int r [10];\n",
    "interno;\n",
    "para (a = 0; a < 10; ++a)\n",
    "{ r[a] = rand();\n",
    "printf(\"r[%d] %d\\n\", a, r[a]);\n",
    "=\n",
    "}\n",
    "retornar r;\n",
    "}\n",
    "\n"
   ]
  },
  {
   "cell_type": "markdown",
   "metadata": {},
   "source": [
    ".\n",
    "\n",
    "![Alt text](image-5.png)\n"
   ]
  },
  {
   "cell_type": "markdown",
   "metadata": {},
   "source": [
    "# ***Função malloc()***\n",
    "* Alocar memória dinamicamente;\n",
    "* Exemplo: int* memoria = malloc (100);\n",
    "* Retorna dois valores: NULL ou um ponteiro genérico;\n"
   ]
  },
  {
   "cell_type": "markdown",
   "metadata": {},
   "source": [
    "***********************************\n",
    "*************************************\n"
   ]
  },
  {
   "cell_type": "markdown",
   "metadata": {},
   "source": [
    "# ***Escopo e Passagem de Parâmetros***\n",
    "\n",
    "# Escopo\n",
    "\n",
    "\n",
    "Variável Local: \n",
    "* são “enxergadas” somente dentro\n",
    "do corpo da função onde foram definidas;\n",
    "\n",
    "Variável Global: \n",
    "* criá-la fora da função, assim ela\n",
    "será visível por todas as funções do programa.\n",
    "Geralmente adota-se declará-las após as\n",
    "bibliotecas.\n",
    "\n",
    "![Alt text](image-6.png)\n"
   ]
  },
  {
   "cell_type": "markdown",
   "metadata": {},
   "source": [
    "# Parâmetros\n",
    "Ideal  para ser acessada por outra função, o valor da variavel (\"pai\") não será alterada , só será alterada dentro da função que chamar ela de acordo com seus comando, mas ao finalisar a função atuala a variavel principal volta a ter seu valor original como antes\n",
    "\n",
    "Passagem de Valor:\n",
    "* a função cria variáveis locais\n",
    "automaticamente para armazenar esses valores e\n",
    "após a execução da função essas variáveis são\n",
    "liberadas.\n",
    "\n",
    "![Alt text](image-7.png)\n"
   ]
  },
  {
   "cell_type": "markdown",
   "metadata": {},
   "source": [
    "# Passagem por referência\n",
    "Se alterada em qualquer parte do codigo, o valor da varialvel original (pai) será alterada, e passa ater um novo valor \n",
    "\n",
    "* Ponteiro e endereço de memória;\n",
    "* Não será criada uma cópia dos argumentos\n",
    "passados;\n",
    "* Será passado o endereço da variável e função\n",
    "trabalhará diretamente com os valores ali\n",
    "armazenados;\n"
   ]
  },
  {
   "cell_type": "markdown",
   "metadata": {},
   "source": [
    "**************************************************\n",
    "******************************************"
   ]
  },
  {
   "cell_type": "markdown",
   "metadata": {},
   "source": [
    "# ***FUNÇÃO RECURSIVA***\n",
    "Um algoritmo recursivo resolve um problema\n",
    "dividindo-o em subproblemas mais simples, cujo a\n",
    "solução é a aplicação dele mesmo.\n",
    "* Ponto de Parada; \n",
    "    -  (precisa se não o codigo pode rodar infinito)\n",
    "* Variáveis na memória de trabalha; \n",
    "    - (pode acabar pesando a memoria, pode acontecer estouro de pilha) \n",
    "* As variáveis são independentes;\n",
    "\n",
    "![Alt text](image-8.png)\n",
    "![Alt text](image-9.png)\n"
   ]
  }
 ],
 "metadata": {
  "kernelspec": {
   "display_name": "Python 3",
   "language": "python",
   "name": "python3"
  },
  "language_info": {
   "codemirror_mode": {
    "name": "ipython",
    "version": 3
   },
   "file_extension": ".py",
   "mimetype": "text/x-python",
   "name": "python",
   "nbconvert_exporter": "python",
   "pygments_lexer": "ipython3",
   "version": "3.11.5"
  },
  "orig_nbformat": 4
 },
 "nbformat": 4,
 "nbformat_minor": 2
}
