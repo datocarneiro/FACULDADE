{
 "cells": [
  {
   "cell_type": "markdown",
   "metadata": {},
   "source": [
    "# ***Matriz***\n",
    "\n",
    "# ***Vetores***\n",
    "\n",
    "# ***bfsoup***\n",
    "\n",
    "# ***Ponteiros***\n",
    "\n",
    "# ***VPS***\n",
    "\n",
    "# ***Flask***\n",
    "\n",
    "# ***Pandas***\n",
    "\n",
    "# ***moplit***\n",
    "\n",
    "# ***Tabela verdade***"
   ]
  },
  {
   "cell_type": "markdown",
   "metadata": {},
   "source": []
  }
 ],
 "metadata": {
  "language_info": {
   "name": "python"
  }
 },
 "nbformat": 4,
 "nbformat_minor": 2
}
